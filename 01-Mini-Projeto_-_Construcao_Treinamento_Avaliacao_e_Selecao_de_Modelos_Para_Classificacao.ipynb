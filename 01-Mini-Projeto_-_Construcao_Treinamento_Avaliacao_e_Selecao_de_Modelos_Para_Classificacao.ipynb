{
 "cells": [
  {
   "cell_type": "markdown",
   "id": "923fdce1",
   "metadata": {},
   "source": [
    "# <font color='blue'>Data Science Academy</font>\n",
    "# <font color='blue'>Big Data Real-Time Analytics com Python e Spark</font>"
   ]
  },
  {
   "cell_type": "markdown",
   "id": "40b27014",
   "metadata": {},
   "source": [
    "<br><br>\n",
    "\n",
    "# <center>Mini-Projeto 1 </center>\n",
    "## Modelagem Preditiva para Identificação de Risco de Doença Hepática\n",
    "\n",
    "<br>\n",
    "\n",
    "### Etapas:\n",
    "\n",
    "- Construção, Treinamento, Avaliação e Seleção de Modelos para <u>Classificação</u>"
   ]
  },
  {
   "cell_type": "markdown",
   "id": "59a60076",
   "metadata": {},
   "source": [
    "### Introdução:\n",
    "- Vamos trabalhar agora em nosso primeiro Mini-Projeto de Machine Learning, cujo objetivo é fornecer um passo a passo completo do processo de construção, treinamento, avaliação e seleção de modelos para classificação. Este projeto será abordado de maneira integral, desde a definição do problema de negócio até as previsões com o modelo treinado."
   ]
  },
  {
   "cell_type": "markdown",
   "id": "682c8264",
   "metadata": {},
   "source": [
    "### Contexto:\n",
    "\n",
    "- O número de pacientes com doença hepática tem aumentado continuamente devido a fatores como consumo excessivo de álcool, inalação de gases nocivos, ingestão de alimentos contaminados, e uso de drogas e anabolizantes. Em resposta a essa crescente preocupação de saúde pública, este mini-projeto visa construir um modelo de Machine Learning capaz de prever se um paciente irá ou não desenvolver uma doença hepática com base em várias características clínicas e demográficas. Este modelo pode ser extremamente útil para médicos, hospitais ou governos no planejamento de orçamentos de saúde e na criação de políticas de prevenção eficazes.\n",
    "\n",
    "<br>\n",
    "\n",
    "### Sobre os Dados:\n",
    "\n",
    "https://archive.ics.uci.edu/ml/datasets/ILPD+(Indian+Liver+Patient+Dataset)\n",
    "\n",
    "- Os dados para este projeto são provenientes do \"Indian Liver Patient Dataset\", disponível no link acima. Este conjunto de dados contém registros de pacientes hepáticos e não hepáticos coletados na Índia. A coluna \"Dataset\" atua como um rótulo de classe, dividindo os indivíduos em pacientes com doença hepática (1) ou sem a doença (2).\n",
    "\n",
    "<br>\n",
    "<table border=\"2\">\n",
    "  <tr>\n",
    "    <th style=\"text-align: center; font-size: 16px;\">Nome da Coluna</th>\n",
    "    <th style=\"text-align: center; font-size: 16px;\">Tipo de Dado</th>\n",
    "    <th style=\"text-align: center; font-size: 16px;\">Descrição</th>\n",
    "  </tr>\n",
    "  <tr>\n",
    "    <td>Age</td>\n",
    "    <td>Int</td>\n",
    "    <td>Idade do paciente em anos.</td>\n",
    "  </tr>\n",
    "  <tr>\n",
    "    <td>Gender</td>\n",
    "    <td>Character(1)</td>\n",
    "    <td>Gênero do paciente, representado como 'Male' ou 'Female'.</td>\n",
    "  </tr>\n",
    "  <tr>\n",
    "    <td>Total_Bilirubin</td>\n",
    "    <td>Float</td>\n",
    "    <td>Total de bilirrubina no sangue, medido em mg/dL.</td>\n",
    "  </tr>\n",
    "  <tr>\n",
    "    <td>Direct_Bilirubin</td>\n",
    "    <td>Float</td>\n",
    "    <td>Bilirrubina direta no sangue, medido em mg/dL.</td>\n",
    "  </tr>\n",
    "  <tr>\n",
    "    <td>Alkaline_Phosphotase</td>\n",
    "    <td>Int</td>\n",
    "    <td>Nível de fosfatase alcalina no sangue, medido em IU/L.</td>\n",
    "  </tr>\n",
    "  <tr>\n",
    "    <td>Alamine_Aminotransferase</td>\n",
    "    <td>Int</td>\n",
    "    <td>Nível de alanina aminotransferase no sangue, uma enzima hepática, medido em IU/L.</td>\n",
    "  </tr>\n",
    "  <tr>\n",
    "    <td>Aspartate_Aminotransferase</td>\n",
    "    <td>Int</td>\n",
    "    <td>Nível de aspartato aminotransferase no sangue, uma enzima hepática, medido em IU/L.</td>\n",
    "  </tr>\n",
    "  <tr>\n",
    "    <td>Total_Protiens</td>\n",
    "    <td>Float</td>\n",
    "    <td>Total de proteínas no soro do sangue, medido em g/dL.</td>\n",
    "  </tr>\n",
    "  <tr>\n",
    "    <td>Albumin</td>\n",
    "    <td>Float</td>\n",
    "    <td>Nível de albumina no sangue, medido em g/dL.</td>\n",
    "  </tr>\n",
    "  <tr>\n",
    "    <td>Albumin_and_Globulin_Ratio</td>\n",
    "    <td>Float</td>\n",
    "    <td>Razão entre albumina e globulina no sangue, um indicativo de função hepática.</td>\n",
    "  </tr>\n",
    "  <tr>\n",
    "    <td>Dataset</td>\n",
    "    <td>Int</td>\n",
    "    <td>Variável alvo, indicando presença (1) ou ausência (2) de doença hepática.</td>\n",
    "  </tr>\n",
    "</table>\n",
    "\n",
    "\n",
    "\n",
    "<br>\n",
    "\n",
    "### Objetivo:\n",
    "\n",
    "- Nosso **objetivo** é prever uma classe (sim ou não), usaremos aprendizado supervisionado para **classificação**,   criando   diferentes   versões   do   modelo   com   diferentes algoritmos e passaremos por todo o processo de Machine Learning de ponta a ponta. Usaremos como fonte de dados o dataset disponível no link a seguir.\n",
    "\n",
    "\n"
   ]
  },
  {
   "cell_type": "markdown",
   "id": "b159c453",
   "metadata": {},
   "source": [
    "<br><br><br>\n",
    "## Importando Pacotes"
   ]
  },
  {
   "cell_type": "code",
   "execution_count": 1,
   "id": "acfc00a6",
   "metadata": {},
   "outputs": [],
   "source": [
    "# Manipulação de Dados\n",
    "import numpy as np\n",
    "import pandas as pd\n",
    "\n",
    "# Criação e Visualização de Gráficos\n",
    "import seaborn as sns\n",
    "import matplotlib.pyplot as plt\n",
    "\n",
    "# Carrega a função SMOTE (Balanceamento de Classes)\n",
    "import imblearn\n",
    "from imblearn.over_sampling import SMOTE\n",
    "\n",
    "# Pacote do Python para Machine Learning\n",
    "import sklearn\n",
    "\n",
    "# Função model_selection do pacote sklearn\n",
    "from sklearn.model_selection import train_test_split    # dividir os dados em treino e teste\n",
    "from sklearn.model_selection import GridSearchCV        # técnica de utilização de hiperparâmetros\n",
    "from sklearn.model_selection import RandomizedSearchCV  # técnica de utilização de hiperparâmetros\n",
    "from sklearn.model_selection import cross_val_score     # validação cruzada (para avaliação do modelo)\n",
    "\n",
    "from sklearn.pipeline import Pipeline\n",
    "from sklearn.preprocessing import StandardScaler\n",
    "\n",
    "\n",
    "## Pacotes do sklearn com os Algoritmos\n",
    "\n",
    "# Função com Algoritmo de ML (Regressão Logística)\n",
    "from sklearn.linear_model import LogisticRegression     \n",
    "\n",
    "# Função com Algoritmo de ML (RandomForest)\n",
    "from sklearn.ensemble import RandomForestClassifier\n",
    "\n",
    "# Função com Algoritmo de ML (KNN)\n",
    "from sklearn.neighbors import KNeighborsClassifier\n",
    "\n",
    "# Função com Algoritmo de ML (Árvores de Decisão)\n",
    "from sklearn.tree import DecisionTreeClassifier\n",
    "\n",
    "# Função com Algoritmo de ML (SVC)\n",
    "from sklearn.svm import SVC\n",
    "\n",
    "# Calcular as Métricas para Avaliação dos Modelos\n",
    "from sklearn.metrics import roc_curve, auc, roc_auc_score, confusion_matrix\n",
    "from sklearn.metrics import accuracy_score\n",
    "\n",
    "# Salvar o modelo após o treinamento\n",
    "import joblib\n",
    "import pickle\n",
    "\n",
    "# Indicando que os Gráficos apareçam no Jupyter Notebook\n",
    "%matplotlib inline\n",
    "\n",
    "# Mensagens de Aviso\n",
    "import warnings\n",
    "warnings.filterwarnings(\"ignore\")"
   ]
  },
  {
   "cell_type": "code",
   "execution_count": 2,
   "id": "7458cc5f",
   "metadata": {},
   "outputs": [],
   "source": [
    "# Carrega os dados\n",
    "dados = pd.read_csv('dados/dataset.csv')"
   ]
  },
  {
   "cell_type": "code",
   "execution_count": 3,
   "id": "a3e30495",
   "metadata": {},
   "outputs": [
    {
     "data": {
      "text/plain": [
       "(583, 11)"
      ]
     },
     "execution_count": 3,
     "metadata": {},
     "output_type": "execute_result"
    }
   ],
   "source": [
    "# Shape\n",
    "dados.shape"
   ]
  },
  {
   "cell_type": "markdown",
   "id": "cc0b01b5",
   "metadata": {},
   "source": [
    "<br><br>\n",
    "# Carregando o Conjunto de Dados\n",
    "- Nesta etapa é feito o **carregamento** dos dados.\n",
    "\n",
    "<br>"
   ]
  },
  {
   "cell_type": "code",
   "execution_count": 4,
   "id": "3be1dc4f",
   "metadata": {},
   "outputs": [
    {
     "data": {
      "text/plain": [
       "Index(['Age', 'Gender', 'Total_Bilirubin', 'Direct_Bilirubin',\n",
       "       'Alkaline_Phosphotase', 'Alamine_Aminotransferase',\n",
       "       'Aspartate_Aminotransferase', 'Total_Protiens', 'Albumin',\n",
       "       'Albumin_and_Globulin_Ratio', 'Dataset'],\n",
       "      dtype='object')"
      ]
     },
     "execution_count": 4,
     "metadata": {},
     "output_type": "execute_result"
    }
   ],
   "source": [
    "# Nome Colunas\n",
    "dados.columns"
   ]
  },
  {
   "cell_type": "code",
   "execution_count": 5,
   "id": "7e6d6701",
   "metadata": {},
   "outputs": [
    {
     "data": {
      "text/html": [
       "<div>\n",
       "<style scoped>\n",
       "    .dataframe tbody tr th:only-of-type {\n",
       "        vertical-align: middle;\n",
       "    }\n",
       "\n",
       "    .dataframe tbody tr th {\n",
       "        vertical-align: top;\n",
       "    }\n",
       "\n",
       "    .dataframe thead th {\n",
       "        text-align: right;\n",
       "    }\n",
       "</style>\n",
       "<table border=\"1\" class=\"dataframe\">\n",
       "  <thead>\n",
       "    <tr style=\"text-align: right;\">\n",
       "      <th></th>\n",
       "      <th>Age</th>\n",
       "      <th>Gender</th>\n",
       "      <th>Total_Bilirubin</th>\n",
       "      <th>Direct_Bilirubin</th>\n",
       "      <th>Alkaline_Phosphotase</th>\n",
       "      <th>Alamine_Aminotransferase</th>\n",
       "      <th>Aspartate_Aminotransferase</th>\n",
       "      <th>Total_Protiens</th>\n",
       "      <th>Albumin</th>\n",
       "      <th>Albumin_and_Globulin_Ratio</th>\n",
       "      <th>Dataset</th>\n",
       "    </tr>\n",
       "  </thead>\n",
       "  <tbody>\n",
       "    <tr>\n",
       "      <th>11</th>\n",
       "      <td>72</td>\n",
       "      <td>Male</td>\n",
       "      <td>2.7</td>\n",
       "      <td>1.3</td>\n",
       "      <td>260</td>\n",
       "      <td>31</td>\n",
       "      <td>56</td>\n",
       "      <td>7.4</td>\n",
       "      <td>3.0</td>\n",
       "      <td>0.6</td>\n",
       "      <td>1</td>\n",
       "    </tr>\n",
       "    <tr>\n",
       "      <th>539</th>\n",
       "      <td>65</td>\n",
       "      <td>Female</td>\n",
       "      <td>0.7</td>\n",
       "      <td>0.2</td>\n",
       "      <td>406</td>\n",
       "      <td>24</td>\n",
       "      <td>45</td>\n",
       "      <td>7.2</td>\n",
       "      <td>3.5</td>\n",
       "      <td>0.9</td>\n",
       "      <td>2</td>\n",
       "    </tr>\n",
       "    <tr>\n",
       "      <th>292</th>\n",
       "      <td>45</td>\n",
       "      <td>Male</td>\n",
       "      <td>0.6</td>\n",
       "      <td>0.2</td>\n",
       "      <td>245</td>\n",
       "      <td>22</td>\n",
       "      <td>24</td>\n",
       "      <td>7.1</td>\n",
       "      <td>3.4</td>\n",
       "      <td>0.9</td>\n",
       "      <td>1</td>\n",
       "    </tr>\n",
       "    <tr>\n",
       "      <th>255</th>\n",
       "      <td>38</td>\n",
       "      <td>Male</td>\n",
       "      <td>1.7</td>\n",
       "      <td>0.7</td>\n",
       "      <td>859</td>\n",
       "      <td>89</td>\n",
       "      <td>48</td>\n",
       "      <td>6.0</td>\n",
       "      <td>3.0</td>\n",
       "      <td>1.0</td>\n",
       "      <td>1</td>\n",
       "    </tr>\n",
       "    <tr>\n",
       "      <th>201</th>\n",
       "      <td>49</td>\n",
       "      <td>Male</td>\n",
       "      <td>0.6</td>\n",
       "      <td>0.1</td>\n",
       "      <td>218</td>\n",
       "      <td>50</td>\n",
       "      <td>53</td>\n",
       "      <td>5.0</td>\n",
       "      <td>2.4</td>\n",
       "      <td>0.9</td>\n",
       "      <td>1</td>\n",
       "    </tr>\n",
       "  </tbody>\n",
       "</table>\n",
       "</div>"
      ],
      "text/plain": [
       "     Age  Gender  Total_Bilirubin  Direct_Bilirubin  Alkaline_Phosphotase  \\\n",
       "11    72    Male              2.7               1.3                   260   \n",
       "539   65  Female              0.7               0.2                   406   \n",
       "292   45    Male              0.6               0.2                   245   \n",
       "255   38    Male              1.7               0.7                   859   \n",
       "201   49    Male              0.6               0.1                   218   \n",
       "\n",
       "     Alamine_Aminotransferase  Aspartate_Aminotransferase  Total_Protiens  \\\n",
       "11                         31                          56             7.4   \n",
       "539                        24                          45             7.2   \n",
       "292                        22                          24             7.1   \n",
       "255                        89                          48             6.0   \n",
       "201                        50                          53             5.0   \n",
       "\n",
       "     Albumin  Albumin_and_Globulin_Ratio  Dataset  \n",
       "11       3.0                         0.6        1  \n",
       "539      3.5                         0.9        2  \n",
       "292      3.4                         0.9        1  \n",
       "255      3.0                         1.0        1  \n",
       "201      2.4                         0.9        1  "
      ]
     },
     "execution_count": 5,
     "metadata": {},
     "output_type": "execute_result"
    }
   ],
   "source": [
    "# Visualiza uma Amostra\n",
    "dados.sample(5)"
   ]
  },
  {
   "cell_type": "markdown",
   "id": "40159118",
   "metadata": {},
   "source": [
    "<br><br>\n",
    "# Análise Exploratória de Dados\n",
    "- Nesta etapa verificamos o **tipo dos dados**, **correlações** e **interpretação** dos dados.\n",
    "\n",
    "<br><br>\n",
    "\n",
    "#### Verificando Tipo de Dados"
   ]
  },
  {
   "cell_type": "code",
   "execution_count": 6,
   "id": "af470168",
   "metadata": {},
   "outputs": [
    {
     "name": "stdout",
     "output_type": "stream",
     "text": [
      "<class 'pandas.core.frame.DataFrame'>\n",
      "RangeIndex: 583 entries, 0 to 582\n",
      "Data columns (total 11 columns):\n",
      " #   Column                      Non-Null Count  Dtype  \n",
      "---  ------                      --------------  -----  \n",
      " 0   Age                         583 non-null    int64  \n",
      " 1   Gender                      583 non-null    object \n",
      " 2   Total_Bilirubin             583 non-null    float64\n",
      " 3   Direct_Bilirubin            583 non-null    float64\n",
      " 4   Alkaline_Phosphotase        583 non-null    int64  \n",
      " 5   Alamine_Aminotransferase    583 non-null    int64  \n",
      " 6   Aspartate_Aminotransferase  583 non-null    int64  \n",
      " 7   Total_Protiens              583 non-null    float64\n",
      " 8   Albumin                     583 non-null    float64\n",
      " 9   Albumin_and_Globulin_Ratio  579 non-null    float64\n",
      " 10  Dataset                     583 non-null    int64  \n",
      "dtypes: float64(5), int64(5), object(1)\n",
      "memory usage: 50.2+ KB\n"
     ]
    }
   ],
   "source": [
    "# Tipo de Dados\n",
    "dados.info()"
   ]
  },
  {
   "cell_type": "markdown",
   "id": "c8115902",
   "metadata": {},
   "source": [
    "#### Visualizando Variáveis Categóricas e Numéricas"
   ]
  },
  {
   "cell_type": "code",
   "execution_count": 7,
   "id": "3f597926",
   "metadata": {},
   "outputs": [
    {
     "data": {
      "text/plain": [
       "Gender    object\n",
       "dtype: object"
      ]
     },
     "execution_count": 7,
     "metadata": {},
     "output_type": "execute_result"
    }
   ],
   "source": [
    "# Exibindo Variáveis Categóricas (filtrando)\n",
    "dados.dtypes[dados.dtypes == 'object']"
   ]
  },
  {
   "cell_type": "code",
   "execution_count": 8,
   "id": "c0ce92c0",
   "metadata": {},
   "outputs": [
    {
     "data": {
      "text/plain": [
       "Age                             int64\n",
       "Total_Bilirubin               float64\n",
       "Direct_Bilirubin              float64\n",
       "Alkaline_Phosphotase            int64\n",
       "Alamine_Aminotransferase        int64\n",
       "Aspartate_Aminotransferase      int64\n",
       "Total_Protiens                float64\n",
       "Albumin                       float64\n",
       "Albumin_and_Globulin_Ratio    float64\n",
       "Dataset                         int64\n",
       "dtype: object"
      ]
     },
     "execution_count": 8,
     "metadata": {},
     "output_type": "execute_result"
    }
   ],
   "source": [
    "# Exibindo Variáveis Numéricas (filtrando)\n",
    "dados.dtypes[dados.dtypes != 'object']"
   ]
  },
  {
   "cell_type": "markdown",
   "id": "6573b18f",
   "metadata": {},
   "source": [
    "<br><br>\n",
    "\n",
    "## Explorando Variáveis Numéricas\n",
    "\n",
    "#### Resumo Estatístico"
   ]
  },
  {
   "cell_type": "code",
   "execution_count": 9,
   "id": "ce9136ce",
   "metadata": {},
   "outputs": [
    {
     "data": {
      "text/html": [
       "<div>\n",
       "<style scoped>\n",
       "    .dataframe tbody tr th:only-of-type {\n",
       "        vertical-align: middle;\n",
       "    }\n",
       "\n",
       "    .dataframe tbody tr th {\n",
       "        vertical-align: top;\n",
       "    }\n",
       "\n",
       "    .dataframe thead th {\n",
       "        text-align: right;\n",
       "    }\n",
       "</style>\n",
       "<table border=\"1\" class=\"dataframe\">\n",
       "  <thead>\n",
       "    <tr style=\"text-align: right;\">\n",
       "      <th></th>\n",
       "      <th>Age</th>\n",
       "      <th>Total_Bilirubin</th>\n",
       "      <th>Direct_Bilirubin</th>\n",
       "      <th>Alkaline_Phosphotase</th>\n",
       "      <th>Alamine_Aminotransferase</th>\n",
       "      <th>Aspartate_Aminotransferase</th>\n",
       "      <th>Total_Protiens</th>\n",
       "      <th>Albumin</th>\n",
       "      <th>Albumin_and_Globulin_Ratio</th>\n",
       "      <th>Dataset</th>\n",
       "    </tr>\n",
       "  </thead>\n",
       "  <tbody>\n",
       "    <tr>\n",
       "      <th>count</th>\n",
       "      <td>583.000000</td>\n",
       "      <td>583.000000</td>\n",
       "      <td>583.000000</td>\n",
       "      <td>583.000000</td>\n",
       "      <td>583.000000</td>\n",
       "      <td>583.000000</td>\n",
       "      <td>583.000000</td>\n",
       "      <td>583.000000</td>\n",
       "      <td>579.000000</td>\n",
       "      <td>583.000000</td>\n",
       "    </tr>\n",
       "    <tr>\n",
       "      <th>mean</th>\n",
       "      <td>44.746141</td>\n",
       "      <td>3.298799</td>\n",
       "      <td>1.486106</td>\n",
       "      <td>290.576329</td>\n",
       "      <td>80.713551</td>\n",
       "      <td>109.910806</td>\n",
       "      <td>6.483190</td>\n",
       "      <td>3.141852</td>\n",
       "      <td>0.947064</td>\n",
       "      <td>1.286449</td>\n",
       "    </tr>\n",
       "    <tr>\n",
       "      <th>std</th>\n",
       "      <td>16.189833</td>\n",
       "      <td>6.209522</td>\n",
       "      <td>2.808498</td>\n",
       "      <td>242.937989</td>\n",
       "      <td>182.620356</td>\n",
       "      <td>288.918529</td>\n",
       "      <td>1.085451</td>\n",
       "      <td>0.795519</td>\n",
       "      <td>0.319592</td>\n",
       "      <td>0.452490</td>\n",
       "    </tr>\n",
       "    <tr>\n",
       "      <th>min</th>\n",
       "      <td>4.000000</td>\n",
       "      <td>0.400000</td>\n",
       "      <td>0.100000</td>\n",
       "      <td>63.000000</td>\n",
       "      <td>10.000000</td>\n",
       "      <td>10.000000</td>\n",
       "      <td>2.700000</td>\n",
       "      <td>0.900000</td>\n",
       "      <td>0.300000</td>\n",
       "      <td>1.000000</td>\n",
       "    </tr>\n",
       "    <tr>\n",
       "      <th>25%</th>\n",
       "      <td>33.000000</td>\n",
       "      <td>0.800000</td>\n",
       "      <td>0.200000</td>\n",
       "      <td>175.500000</td>\n",
       "      <td>23.000000</td>\n",
       "      <td>25.000000</td>\n",
       "      <td>5.800000</td>\n",
       "      <td>2.600000</td>\n",
       "      <td>0.700000</td>\n",
       "      <td>1.000000</td>\n",
       "    </tr>\n",
       "    <tr>\n",
       "      <th>50%</th>\n",
       "      <td>45.000000</td>\n",
       "      <td>1.000000</td>\n",
       "      <td>0.300000</td>\n",
       "      <td>208.000000</td>\n",
       "      <td>35.000000</td>\n",
       "      <td>42.000000</td>\n",
       "      <td>6.600000</td>\n",
       "      <td>3.100000</td>\n",
       "      <td>0.930000</td>\n",
       "      <td>1.000000</td>\n",
       "    </tr>\n",
       "    <tr>\n",
       "      <th>75%</th>\n",
       "      <td>58.000000</td>\n",
       "      <td>2.600000</td>\n",
       "      <td>1.300000</td>\n",
       "      <td>298.000000</td>\n",
       "      <td>60.500000</td>\n",
       "      <td>87.000000</td>\n",
       "      <td>7.200000</td>\n",
       "      <td>3.800000</td>\n",
       "      <td>1.100000</td>\n",
       "      <td>2.000000</td>\n",
       "    </tr>\n",
       "    <tr>\n",
       "      <th>max</th>\n",
       "      <td>90.000000</td>\n",
       "      <td>75.000000</td>\n",
       "      <td>19.700000</td>\n",
       "      <td>2110.000000</td>\n",
       "      <td>2000.000000</td>\n",
       "      <td>4929.000000</td>\n",
       "      <td>9.600000</td>\n",
       "      <td>5.500000</td>\n",
       "      <td>2.800000</td>\n",
       "      <td>2.000000</td>\n",
       "    </tr>\n",
       "  </tbody>\n",
       "</table>\n",
       "</div>"
      ],
      "text/plain": [
       "              Age  Total_Bilirubin  Direct_Bilirubin  Alkaline_Phosphotase  \\\n",
       "count  583.000000       583.000000        583.000000            583.000000   \n",
       "mean    44.746141         3.298799          1.486106            290.576329   \n",
       "std     16.189833         6.209522          2.808498            242.937989   \n",
       "min      4.000000         0.400000          0.100000             63.000000   \n",
       "25%     33.000000         0.800000          0.200000            175.500000   \n",
       "50%     45.000000         1.000000          0.300000            208.000000   \n",
       "75%     58.000000         2.600000          1.300000            298.000000   \n",
       "max     90.000000        75.000000         19.700000           2110.000000   \n",
       "\n",
       "       Alamine_Aminotransferase  Aspartate_Aminotransferase  Total_Protiens  \\\n",
       "count                583.000000                  583.000000      583.000000   \n",
       "mean                  80.713551                  109.910806        6.483190   \n",
       "std                  182.620356                  288.918529        1.085451   \n",
       "min                   10.000000                   10.000000        2.700000   \n",
       "25%                   23.000000                   25.000000        5.800000   \n",
       "50%                   35.000000                   42.000000        6.600000   \n",
       "75%                   60.500000                   87.000000        7.200000   \n",
       "max                 2000.000000                 4929.000000        9.600000   \n",
       "\n",
       "          Albumin  Albumin_and_Globulin_Ratio     Dataset  \n",
       "count  583.000000                  579.000000  583.000000  \n",
       "mean     3.141852                    0.947064    1.286449  \n",
       "std      0.795519                    0.319592    0.452490  \n",
       "min      0.900000                    0.300000    1.000000  \n",
       "25%      2.600000                    0.700000    1.000000  \n",
       "50%      3.100000                    0.930000    1.000000  \n",
       "75%      3.800000                    1.100000    2.000000  \n",
       "max      5.500000                    2.800000    2.000000  "
      ]
     },
     "execution_count": 9,
     "metadata": {},
     "output_type": "execute_result"
    }
   ],
   "source": [
    "# Describe\n",
    "dados.describe()"
   ]
  },
  {
   "cell_type": "markdown",
   "id": "c28c9117",
   "metadata": {},
   "source": [
    "<br>\n",
    "\n",
    "#### Visualizando através de Gráficos"
   ]
  },
  {
   "cell_type": "code",
   "execution_count": 10,
   "id": "c11fc497",
   "metadata": {},
   "outputs": [
    {
     "data": {
      "image/png": "[encoded data removed]",
      "text/plain": [
       "<Figure size 1080x1080 with 12 Axes>"
      ]
     },
     "metadata": {
      "needs_background": "light"
     },
     "output_type": "display_data"
    }
   ],
   "source": [
    "# Plot\n",
    "dados.hist(figsize = (15,15), bins = 10) \n",
    "plt.show()"
   ]
  },
  {
   "cell_type": "markdown",
   "id": "1d8c0719",
   "metadata": {},
   "source": [
    "#### Interpretando o Resumo e Gráficos\n",
    "\n",
    "- Parece que há outlier nas variáveis **Alamine_Aminotransferase**, **Aspartate_Aminotransferase**, pois o valor máximo é muito mais alto que o valor médio.\n",
    "- A coluna **Dataset** (que será posteriormente renomeada para Target) tem '1' para doença hepática e '2' para nenhuma doença hepática. Vamos ajustar a variável colocando valores mais fáceis de interpretar. A classe negativa (não tem a doença) será zero."
   ]
  },
  {
   "cell_type": "markdown",
   "id": "b0722836",
   "metadata": {},
   "source": [
    "<br>\n",
    "\n",
    "#### Ajustando coluna 'Dataset' (editando valores e renomeando para 'Target')"
   ]
  },
  {
   "cell_type": "code",
   "execution_count": 11,
   "id": "9cf9a648",
   "metadata": {},
   "outputs": [],
   "source": [
    "# Criando Função para ajustar a variável target (modificando todos valores 2 para 0)\n",
    "def ajusta_var(x):\n",
    "    if x == 2:\n",
    "        return 0\n",
    "    return 1\n",
    "\n",
    "# Aplica a função\n",
    "dados['Dataset'] = dados['Dataset'].map(ajusta_var)"
   ]
  },
  {
   "cell_type": "code",
   "execution_count": 12,
   "id": "2ef0972e",
   "metadata": {},
   "outputs": [],
   "source": [
    "# Renomeando coluna 'Dataset' para 'Target'\n",
    "dados.rename({'Dataset':'Target'}, axis = 'columns', inplace = True)"
   ]
  },
  {
   "cell_type": "code",
   "execution_count": 13,
   "id": "6daa6fc3",
   "metadata": {},
   "outputs": [
    {
     "data": {
      "text/html": [
       "<div>\n",
       "<style scoped>\n",
       "    .dataframe tbody tr th:only-of-type {\n",
       "        vertical-align: middle;\n",
       "    }\n",
       "\n",
       "    .dataframe tbody tr th {\n",
       "        vertical-align: top;\n",
       "    }\n",
       "\n",
       "    .dataframe thead th {\n",
       "        text-align: right;\n",
       "    }\n",
       "</style>\n",
       "<table border=\"1\" class=\"dataframe\">\n",
       "  <thead>\n",
       "    <tr style=\"text-align: right;\">\n",
       "      <th></th>\n",
       "      <th>Age</th>\n",
       "      <th>Gender</th>\n",
       "      <th>Total_Bilirubin</th>\n",
       "      <th>Direct_Bilirubin</th>\n",
       "      <th>Alkaline_Phosphotase</th>\n",
       "      <th>Alamine_Aminotransferase</th>\n",
       "      <th>Aspartate_Aminotransferase</th>\n",
       "      <th>Total_Protiens</th>\n",
       "      <th>Albumin</th>\n",
       "      <th>Albumin_and_Globulin_Ratio</th>\n",
       "      <th>Target</th>\n",
       "    </tr>\n",
       "  </thead>\n",
       "  <tbody>\n",
       "    <tr>\n",
       "      <th>436</th>\n",
       "      <td>23</td>\n",
       "      <td>Male</td>\n",
       "      <td>1.0</td>\n",
       "      <td>0.3</td>\n",
       "      <td>212</td>\n",
       "      <td>41</td>\n",
       "      <td>80</td>\n",
       "      <td>6.2</td>\n",
       "      <td>3.1</td>\n",
       "      <td>1.00</td>\n",
       "      <td>1</td>\n",
       "    </tr>\n",
       "    <tr>\n",
       "      <th>170</th>\n",
       "      <td>72</td>\n",
       "      <td>Male</td>\n",
       "      <td>1.7</td>\n",
       "      <td>0.8</td>\n",
       "      <td>200</td>\n",
       "      <td>28</td>\n",
       "      <td>37</td>\n",
       "      <td>6.2</td>\n",
       "      <td>3.0</td>\n",
       "      <td>0.93</td>\n",
       "      <td>1</td>\n",
       "    </tr>\n",
       "    <tr>\n",
       "      <th>166</th>\n",
       "      <td>55</td>\n",
       "      <td>Male</td>\n",
       "      <td>75.0</td>\n",
       "      <td>3.6</td>\n",
       "      <td>332</td>\n",
       "      <td>40</td>\n",
       "      <td>66</td>\n",
       "      <td>6.2</td>\n",
       "      <td>2.5</td>\n",
       "      <td>0.60</td>\n",
       "      <td>1</td>\n",
       "    </tr>\n",
       "    <tr>\n",
       "      <th>360</th>\n",
       "      <td>24</td>\n",
       "      <td>Male</td>\n",
       "      <td>0.7</td>\n",
       "      <td>0.2</td>\n",
       "      <td>218</td>\n",
       "      <td>47</td>\n",
       "      <td>26</td>\n",
       "      <td>6.6</td>\n",
       "      <td>3.3</td>\n",
       "      <td>1.00</td>\n",
       "      <td>1</td>\n",
       "    </tr>\n",
       "    <tr>\n",
       "      <th>279</th>\n",
       "      <td>48</td>\n",
       "      <td>Female</td>\n",
       "      <td>1.0</td>\n",
       "      <td>1.4</td>\n",
       "      <td>144</td>\n",
       "      <td>18</td>\n",
       "      <td>14</td>\n",
       "      <td>8.3</td>\n",
       "      <td>4.2</td>\n",
       "      <td>1.00</td>\n",
       "      <td>1</td>\n",
       "    </tr>\n",
       "  </tbody>\n",
       "</table>\n",
       "</div>"
      ],
      "text/plain": [
       "     Age  Gender  Total_Bilirubin  Direct_Bilirubin  Alkaline_Phosphotase  \\\n",
       "436   23    Male              1.0               0.3                   212   \n",
       "170   72    Male              1.7               0.8                   200   \n",
       "166   55    Male             75.0               3.6                   332   \n",
       "360   24    Male              0.7               0.2                   218   \n",
       "279   48  Female              1.0               1.4                   144   \n",
       "\n",
       "     Alamine_Aminotransferase  Aspartate_Aminotransferase  Total_Protiens  \\\n",
       "436                        41                          80             6.2   \n",
       "170                        28                          37             6.2   \n",
       "166                        40                          66             6.2   \n",
       "360                        47                          26             6.6   \n",
       "279                        18                          14             8.3   \n",
       "\n",
       "     Albumin  Albumin_and_Globulin_Ratio  Target  \n",
       "436      3.1                        1.00       1  \n",
       "170      3.0                        0.93       1  \n",
       "166      2.5                        0.60       1  \n",
       "360      3.3                        1.00       1  \n",
       "279      4.2                        1.00       1  "
      ]
     },
     "execution_count": 13,
     "metadata": {},
     "output_type": "execute_result"
    }
   ],
   "source": [
    "# Visualizando\n",
    "dados.sample(5)"
   ]
  },
  {
   "cell_type": "markdown",
   "id": "efbc67c0",
   "metadata": {},
   "source": [
    "<br>\n",
    "\n",
    "### Exploração Variável Categórica\n",
    "\n",
    "<br>"
   ]
  },
  {
   "cell_type": "code",
   "execution_count": 14,
   "id": "b1d35b6e",
   "metadata": {},
   "outputs": [
    {
     "name": "stdout",
     "output_type": "stream",
     "text": [
      "<class 'pandas.core.frame.DataFrame'>\n",
      "RangeIndex: 583 entries, 0 to 582\n",
      "Data columns (total 11 columns):\n",
      " #   Column                      Non-Null Count  Dtype  \n",
      "---  ------                      --------------  -----  \n",
      " 0   Age                         583 non-null    int64  \n",
      " 1   Gender                      583 non-null    object \n",
      " 2   Total_Bilirubin             583 non-null    float64\n",
      " 3   Direct_Bilirubin            583 non-null    float64\n",
      " 4   Alkaline_Phosphotase        583 non-null    int64  \n",
      " 5   Alamine_Aminotransferase    583 non-null    int64  \n",
      " 6   Aspartate_Aminotransferase  583 non-null    int64  \n",
      " 7   Total_Protiens              583 non-null    float64\n",
      " 8   Albumin                     583 non-null    float64\n",
      " 9   Albumin_and_Globulin_Ratio  579 non-null    float64\n",
      " 10  Target                      583 non-null    int64  \n",
      "dtypes: float64(5), int64(5), object(1)\n",
      "memory usage: 50.2+ KB\n"
     ]
    }
   ],
   "source": [
    "# Info\n",
    "dados.info()"
   ]
  },
  {
   "cell_type": "markdown",
   "id": "b0f1db69",
   "metadata": {},
   "source": [
    "#### Resumo"
   ]
  },
  {
   "cell_type": "code",
   "execution_count": 15,
   "id": "c21e5932",
   "metadata": {},
   "outputs": [
    {
     "data": {
      "text/html": [
       "<div>\n",
       "<style scoped>\n",
       "    .dataframe tbody tr th:only-of-type {\n",
       "        vertical-align: middle;\n",
       "    }\n",
       "\n",
       "    .dataframe tbody tr th {\n",
       "        vertical-align: top;\n",
       "    }\n",
       "\n",
       "    .dataframe thead th {\n",
       "        text-align: right;\n",
       "    }\n",
       "</style>\n",
       "<table border=\"1\" class=\"dataframe\">\n",
       "  <thead>\n",
       "    <tr style=\"text-align: right;\">\n",
       "      <th></th>\n",
       "      <th>Gender</th>\n",
       "    </tr>\n",
       "  </thead>\n",
       "  <tbody>\n",
       "    <tr>\n",
       "      <th>count</th>\n",
       "      <td>583</td>\n",
       "    </tr>\n",
       "    <tr>\n",
       "      <th>unique</th>\n",
       "      <td>2</td>\n",
       "    </tr>\n",
       "    <tr>\n",
       "      <th>top</th>\n",
       "      <td>Male</td>\n",
       "    </tr>\n",
       "    <tr>\n",
       "      <th>freq</th>\n",
       "      <td>441</td>\n",
       "    </tr>\n",
       "  </tbody>\n",
       "</table>\n",
       "</div>"
      ],
      "text/plain": [
       "       Gender\n",
       "count     583\n",
       "unique      2\n",
       "top      Male\n",
       "freq      441"
      ]
     },
     "execution_count": 15,
     "metadata": {},
     "output_type": "execute_result"
    }
   ],
   "source": [
    "# Describe (informando que é para somente variáveis categóricas)\n",
    "dados.describe(include = ['object'])"
   ]
  },
  {
   "cell_type": "code",
   "execution_count": 16,
   "id": "cc06ad72",
   "metadata": {},
   "outputs": [
    {
     "data": {
      "text/plain": [
       "array(['Female', 'Male'], dtype=object)"
      ]
     },
     "execution_count": 16,
     "metadata": {},
     "output_type": "execute_result"
    }
   ],
   "source": [
    "# Verificando Tipo de Valores\n",
    "dados['Gender'].unique()"
   ]
  },
  {
   "cell_type": "markdown",
   "id": "647b45fb",
   "metadata": {},
   "source": [
    "#### Visualizando através de Gráfico"
   ]
  },
  {
   "cell_type": "code",
   "execution_count": null,
   "id": "8b02cd85",
   "metadata": {},
   "outputs": [],
   "source": [
    "# Plot\n",
    "sns.countplot(data = dados, x = 'Gender', label = 'Count')\n",
    "\n",
    "# Value counts\n",
    "M, F = dados['Gender'].value_counts()\n",
    "\n",
    "# Print\n",
    "print('Número de pacientes do sexo masculino: ', M)\n",
    "print('Número de pacientes do sexo feminino: ', F)"
   ]
  },
  {
   "cell_type": "markdown",
   "id": "4f9ae040",
   "metadata": {},
   "source": [
    "### Aplicando Label Encoding\n",
    "#### Vamos transformar a variável **Categórica** Gender na sua represetação **Numérica**"
   ]
  },
  {
   "cell_type": "code",
   "execution_count": null,
   "id": "130f85d7",
   "metadata": {},
   "outputs": [],
   "source": [
    "# Função para label encoding ('Male' = 0 e 'Female' = 1)\n",
    "def encoding_func(x):\n",
    "    if x == 'Male':\n",
    "        return 0\n",
    "    return 1\n",
    "\n",
    "# Aplica a função\n",
    "dados['Gender'] = dados['Gender'].map(encoding_func)"
   ]
  },
  {
   "cell_type": "code",
   "execution_count": null,
   "id": "835c06cd",
   "metadata": {},
   "outputs": [],
   "source": [
    "# Visualiza os dados\n",
    "dados.sample(5)"
   ]
  },
  {
   "cell_type": "markdown",
   "id": "9f9c5f8a",
   "metadata": {},
   "source": [
    "<br>\n",
    "\n",
    "### Verificando Correlação Entre os Atributos \n",
    "\n",
    "#### Tabela Correlação"
   ]
  },
  {
   "cell_type": "code",
   "execution_count": null,
   "id": "a2fa92ab",
   "metadata": {},
   "outputs": [],
   "source": [
    "#### Correlação\n",
    "dados.corr()"
   ]
  },
  {
   "cell_type": "code",
   "execution_count": null,
   "id": "3c951115",
   "metadata": {},
   "outputs": [],
   "source": [
    "# Visualizando através de Gráfico\n",
    "\n",
    "# Criando o heatmap\n",
    "corr_matrix = dados.select_dtypes(include=[np.number]).corr()\n",
    "\n",
    "plt.figure(figsize=(10, 8))  # Define o tamanho da figura\n",
    "sns.heatmap(corr_matrix, annot=True, fmt=\".2f\", cmap='coolwarm', cbar=True, square=True)\n",
    "plt.title('Mapa de Calor das Correlações')\n",
    "plt.show()"
   ]
  },
  {
   "cell_type": "markdown",
   "id": "882768b5",
   "metadata": {},
   "source": [
    "#### Interpretando o resultado da Correlação\n",
    "- Vamos citar exemplo: Podemos constatar no dados e gráfico que a variável **Total_Bilirubin** tem uma alta correlação positiva com a variável **Direct_Bilirubin** (0.87).\n",
    "- Isso é um problema pois a mesma informação está sendo replicada duas vezes e por conta disso pode deixar o modelo tendencioso.\n",
    "- O fato de duas variáveis estarem altamente relacionadas (quando tem o valor abaixo ou acima de 0.70) é chamado de **Multicolinearidade**.\n",
    "- Em algum momento deveremos tomar uma decisão: deixar as duas variáveis, remover uma variável ou remover as duas.\n",
    "\n",
    "\n",
    "#### Atenção\n",
    "- Nosso dados ainda não foram **limpos**/**tratados** (valores ausentes, replicados ou outliers). É recomendado aplicar algum tipo de tratamento relacionado a **Multicolinearidade** somente quando os dados estiverem tratados.\n",
    "- Estamos na etapa de **Análise Exploratória** onde estamos entendendo a natureza dos nossos dados."
   ]
  },
  {
   "cell_type": "markdown",
   "id": "9bae5ba7",
   "metadata": {},
   "source": [
    "<br>\n",
    "\n",
    "#### Verificando Através de Gráfico a Relação entre as Variáveis 'Direct_Bilirubin' e 'Total_Bilirubin' por 'Target'"
   ]
  },
  {
   "cell_type": "code",
   "execution_count": null,
   "id": "ae3d3d9d",
   "metadata": {},
   "outputs": [],
   "source": [
    "# Define o estilo do background\n",
    "sns.set_style('darkgrid')\n",
    "\n",
    "# FacetGrid\n",
    "grid = sns.FacetGrid(dados, hue='Target', height=5)                       # Alterado de 'size' para 'height'\n",
    "grid.map(plt.scatter, 'Total_Bilirubin', 'Direct_Bilirubin').add_legend()\n",
    "plt.show()  # Garante que o gráfico será mostrado em alguns ambientes"
   ]
  },
  {
   "cell_type": "markdown",
   "id": "876a278b",
   "metadata": {},
   "source": [
    "<br>\n",
    "\n",
    "#### Verificando Através de Gráfico a Relação entre as Variáveis 'Direct_Bilirubin' e 'Total_Bilirubin' por 'Gender'"
   ]
  },
  {
   "cell_type": "code",
   "execution_count": null,
   "id": "fb253111",
   "metadata": {},
   "outputs": [],
   "source": [
    "# Define o estilo do background\n",
    "sns.set_style('darkgrid')\n",
    "\n",
    "# FacetGrid\n",
    "grid = sns.FacetGrid(dados, hue='Gender', height=5)                      \n",
    "grid.map(plt.scatter, 'Total_Bilirubin', 'Direct_Bilirubin').add_legend()\n",
    "plt.show()"
   ]
  },
  {
   "cell_type": "markdown",
   "id": "b875afad",
   "metadata": {},
   "source": [
    "<br>\n",
    "\n",
    "#### Verificando Através de Gráfico a Relação entre as Variáveis 'Albumin' e 'Total_Bilirubin' por 'Target'"
   ]
  },
  {
   "cell_type": "code",
   "execution_count": null,
   "id": "3833d8d9",
   "metadata": {},
   "outputs": [],
   "source": [
    "# Define o estilo do background\n",
    "sns.set_style('darkgrid')\n",
    "\n",
    "# FacetGrid\n",
    "grid = sns.FacetGrid(dados, hue='Target', height=5)                      \n",
    "grid.map(plt.scatter, 'Total_Bilirubin', 'Albumin').add_legend()\n",
    "plt.show()"
   ]
  },
  {
   "cell_type": "markdown",
   "id": "a198cb68",
   "metadata": {},
   "source": [
    "<br>\n",
    "\n",
    "#### Verificando Através de Gráfico a Relação entre as Variáveis 'Albumin' e 'Total_Bilirubin' por 'Gender'"
   ]
  },
  {
   "cell_type": "code",
   "execution_count": null,
   "id": "81a0dab0",
   "metadata": {},
   "outputs": [],
   "source": [
    "# Define o estilo do background\n",
    "sns.set_style('darkgrid')\n",
    "\n",
    "# FacetGrid\n",
    "grid = sns.FacetGrid(dados, hue='Gender', height=5)                      \n",
    "grid.map(plt.scatter, 'Total_Bilirubin', 'Albumin').add_legend()\n",
    "plt.show()"
   ]
  },
  {
   "cell_type": "markdown",
   "id": "3c32cbd6",
   "metadata": {},
   "source": [
    "<br>\n",
    "\n",
    "### Conclusões da Análise Exploratória\n",
    "\n",
    "- A análise exploratória ajudou a entender a natureza dos dados, preparando o caminho para limpeza de dados e análises mais profundas.\n",
    "- Identificou-se a necessidade de tratar valores ausentes e possíveis outliers.\n",
    "- A análise de correlação destacou a presença de multicolinearidade, que pode afetar a performance de modelos de aprendizado de máquina.\n",
    "\n",
    "<br><br>"
   ]
  },
  {
   "cell_type": "markdown",
   "id": "646425e3",
   "metadata": {},
   "source": [
    "<br>\n",
    "\n",
    "# Limpeza de Dados\n",
    "- Nesta etapa realizaremos a verificação e tratamento de **valores ausentes, duplicados e outliers**.\n",
    "\n",
    "<br>"
   ]
  },
  {
   "cell_type": "markdown",
   "id": "7bb46a4b",
   "metadata": {},
   "source": [
    "<br>\n",
    "\n",
    "## Verificação de Valores Ausentes\n",
    "\n",
    "#### Verificando Valores Ausentes"
   ]
  },
  {
   "cell_type": "code",
   "execution_count": null,
   "id": "da382d26",
   "metadata": {},
   "outputs": [],
   "source": [
    "# Verifica se há valores ausentes (por coluna)\n",
    "dados.isna().sum()"
   ]
  },
  {
   "cell_type": "code",
   "execution_count": null,
   "id": "5b6f8648",
   "metadata": {},
   "outputs": [],
   "source": [
    "# Exibe as linhas com os valores ausentes\n",
    "dados[dados.isnull().values]"
   ]
  },
  {
   "cell_type": "markdown",
   "id": "6c53380d",
   "metadata": {},
   "source": [
    "<br>\n",
    "\n",
    "## Verificação de Valores Duplicados"
   ]
  },
  {
   "cell_type": "markdown",
   "id": "d5adbc5c",
   "metadata": {},
   "source": [
    "#### Verificando Valores Duplicados"
   ]
  },
  {
   "cell_type": "code",
   "execution_count": null,
   "id": "84715685",
   "metadata": {},
   "outputs": [],
   "source": [
    "# Verifica quantidade de valores duplicados\n",
    "dados.duplicated().sum()"
   ]
  },
  {
   "cell_type": "code",
   "execution_count": null,
   "id": "f04fe661",
   "metadata": {},
   "outputs": [],
   "source": [
    "# Exibindo as linhas com valores duplicados\n",
    "dados[dados.duplicated(keep = False)]"
   ]
  },
  {
   "cell_type": "markdown",
   "id": "43f02065",
   "metadata": {},
   "source": [
    "#### Tratando Valores Duplicados"
   ]
  },
  {
   "cell_type": "code",
   "execution_count": null,
   "id": "997d01b5",
   "metadata": {},
   "outputs": [],
   "source": [
    "# Remove registros duplicados (remove uma das duplicatas)\n",
    "dados = dados.drop_duplicates()\n",
    "print(dados.shape)"
   ]
  },
  {
   "cell_type": "markdown",
   "id": "baed9b31",
   "metadata": {},
   "source": [
    "#### Confirmando o Tratamento de Valores Ausentes e Duplicatas"
   ]
  },
  {
   "cell_type": "code",
   "execution_count": null,
   "id": "bd1189ed",
   "metadata": {},
   "outputs": [],
   "source": [
    "# Verifica se há valores ausentes (por coluna)\n",
    "print(dados.isna().sum())\n",
    "\n",
    "print('\\n--------------------------------------------------------\\n')\n",
    "\n",
    "# Verifica se há valores duplicados\n",
    "print(dados.duplicated().sum())"
   ]
  },
  {
   "cell_type": "markdown",
   "id": "077741fc",
   "metadata": {},
   "source": [
    "<br>\n",
    "\n",
    "## Verificação de Valores Outliers\n",
    "- Vamos verificar e tratar valores outliers dentro de **dois cenários** e tomaremos decisões **diferentes** para cada um deles.\n",
    "\n",
    "<br>\n",
    "\n",
    "### Cenário 1 (Variável 'Alamine_Aminotransferase')"
   ]
  },
  {
   "cell_type": "code",
   "execution_count": null,
   "id": "f233786b",
   "metadata": {},
   "outputs": [],
   "source": [
    "# Verificando Describe\n",
    "dados.describe()"
   ]
  },
  {
   "cell_type": "markdown",
   "id": "55234ec4",
   "metadata": {},
   "source": [
    "#### Analisando o describe da variável Alamine_Aminotransferase\n",
    "- Podemos observar que a variável possui uma média de **80.14** e um valor máx de **2000**. Isso é um sinal de que podemos ter um **outlier**.\n",
    "- Podemos checar esta informação através da criação de um **Gráfico BoxPlot**."
   ]
  },
  {
   "cell_type": "markdown",
   "id": "4d40ed07",
   "metadata": {},
   "source": [
    "#### Gráfico BoxPlot (Variável 'Alamine_Aminotransferase')"
   ]
  },
  {
   "cell_type": "code",
   "execution_count": null,
   "id": "e758892b",
   "metadata": {},
   "outputs": [],
   "source": [
    "# Boxplot\n",
    "sns.boxplot(dados.Alamine_Aminotransferase)"
   ]
  },
  {
   "cell_type": "markdown",
   "id": "882a82e0",
   "metadata": {},
   "source": [
    "#### Interpretando o gráfico\n",
    "- Podemos verificar que além do valor de 2000 temos **outros diversos valores acima da média** (que está próxima de zero).\n",
    "- Será que os valores extremos são mesmo outliers para esta variável?\n",
    "<br><br>\n",
    "- Para determinar se os valores extremos são outliers, vamos verificar não apenas os valores individuais mais altos, mas também a **frequência** desses valores extremos para entender melhor sua distribuição e impacto.\n",
    "<br>\n",
    "\n",
    "#### Contagem de Frequência por Valor"
   ]
  },
  {
   "cell_type": "code",
   "execution_count": null,
   "id": "188bd87e",
   "metadata": {},
   "outputs": [],
   "source": [
    "# Exibindo os cinco maiores valores únicos e suas frequências:\n",
    "valores_extremos = dados['Alamine_Aminotransferase'].nlargest(5).unique()\n",
    "frequencias = dados['Alamine_Aminotransferase'].value_counts().loc[valores_extremos]\n",
    "print(\"Os cinco maiores valores e suas frequências são:\")\n",
    "print(frequencias)"
   ]
  },
  {
   "cell_type": "code",
   "execution_count": null,
   "id": "6b6587c0",
   "metadata": {},
   "outputs": [],
   "source": [
    "# Exibindo a quantidade de valores acima da média:\n",
    "\n",
    "# Cálculo da média\n",
    "media = dados['Alamine_Aminotransferase'].mean()\n",
    "\n",
    "# Contagem de valores acima da média\n",
    "total_acima_media = (dados['Alamine_Aminotransferase'] > media).sum()\n",
    "\n",
    "print(\"Total de valores acima da média:\", total_acima_media)\n",
    "print(\"Total de valores na variável:\", len(dados['Alamine_Aminotransferase']))\n"
   ]
  },
  {
   "cell_type": "markdown",
   "id": "43d476f2",
   "metadata": {},
   "source": [
    "## Conclusão\n",
    "- Após a análise detalhada da variável **'Alamine_Aminotransferase'**, identificamos que o valor máximo de 2000 é consideravelmente mais alto que os outros valores próximos, que também são altos mas menos frequentes. \n",
    "- Esses valores extremos podem ser considerados **outliers** devido ao seu afastamento significativo da média e mediana, além de, com **110** registros, serem **frequentes** no dataset, como mostrado pela **análise de frequência**.\n",
    "\n",
    "<br>\n",
    "\n",
    "- Dado esse contexto, é sugerido a avaliação de **tratamento** desses outliers dentro do cenário de aplicação dos dados. Se estes valores são resultantes de erros de medição ou casos muito atípicos que podem distorcer análises estatísticas, a **remoção** ou **substituição** por um limite superior calculado pelo **método do IQR** é recomendada.\n",
    "- Contudo, se esses altos valores representam casos **válidos** dentro da pesquisa ou aplicação prática dos dados, poderiam ser **mantidos**, mas com uma análise adicional para confirmar sua validade.\n",
    "\n",
    "<br>\n",
    "\n",
    "- Portanto neste **caso específico**, após verificar a **validade** dos dados, optou-se por **não realizar o tratamento de outliers** para esta variável, pois eles representam casos autênticos dentro do contexto estudado."
   ]
  },
  {
   "cell_type": "markdown",
   "id": "cad3024e",
   "metadata": {},
   "source": [
    "<br><br>\n",
    "\n",
    "### Cenário 2 (Variável 'Aspartate_Aminotransferase')"
   ]
  },
  {
   "cell_type": "code",
   "execution_count": null,
   "id": "f0c571a0",
   "metadata": {},
   "outputs": [],
   "source": [
    "# Verificando o Describe da variável\n",
    "dados['Aspartate_Aminotransferase'].describe()"
   ]
  },
  {
   "cell_type": "markdown",
   "id": "8c291487",
   "metadata": {},
   "source": [
    "#### Analisando o describe da variável Aspartate_Aminotransferase\n",
    "- Podemos observar que a variável possui uma média de **109.89** e um valor máx de **4929**. Isso é um sinal de que podemos ter um ou mais valores **outlier**.\n",
    "- Vamos novamente verificar por um **Gráfico BoxPlot**"
   ]
  },
  {
   "cell_type": "markdown",
   "id": "a75ced3c",
   "metadata": {},
   "source": [
    "#### Gráfico BoxPlot (Variável 'Aspartate_Aminotransferase')"
   ]
  },
  {
   "cell_type": "code",
   "execution_count": null,
   "id": "1acda9df",
   "metadata": {},
   "outputs": [],
   "source": [
    "# Boxplot\n",
    "sns.boxplot(dados.Aspartate_Aminotransferase)"
   ]
  },
  {
   "cell_type": "markdown",
   "id": "e41f0526",
   "metadata": {},
   "source": [
    "#### Interpretando o gráfico\n",
    "- Podemos verificar que novamente temos valores outliers, mas com um **comportamente diferente**. Parece que temos menos dados com valores extremos.\n",
    "- Aqui nós temos apenas **dois valores** outliers **acima de 2000** enquanto todos os outros abaixo deste valor. \n",
    "- Os valores extremos são mesmo outliers para esta variável?\n",
    "<br><br>\n",
    "- Podemos responder isso verificando novamente os **maiores valores únicos** e suas **frequências**:\n",
    "<br>\n",
    "\n",
    "#### Contagem de Frequência por Valor"
   ]
  },
  {
   "cell_type": "code",
   "execution_count": null,
   "id": "3e67a9c5",
   "metadata": {},
   "outputs": [],
   "source": [
    "# Exibindo os cinco maiores valores únicos e suas frequências:\n",
    "valores_extremos = dados['Aspartate_Aminotransferase'].nlargest(5).unique()\n",
    "frequencias = dados['Aspartate_Aminotransferase'].value_counts().loc[valores_extremos]\n",
    "print(\"Os cinco maiores valores e suas frequências são:\")\n",
    "print(frequencias)"
   ]
  },
  {
   "cell_type": "code",
   "execution_count": null,
   "id": "d964a9d1",
   "metadata": {},
   "outputs": [],
   "source": [
    "# Exibindo a quantidade de valores acima da média:\n",
    "\n",
    "# Cálculo da média\n",
    "media = dados['Aspartate_Aminotransferase'].mean()\n",
    "\n",
    "# Contagem de valores acima da média\n",
    "total_acima_media = (dados['Aspartate_Aminotransferase'] > media).sum()\n",
    "\n",
    "print(\"Total de valores acima da média:\", total_acima_media)\n",
    "print(\"Total de valores na variável:\", len(dados['Aspartate_Aminotransferase']))"
   ]
  },
  {
   "cell_type": "code",
   "execution_count": null,
   "id": "21a4bce4",
   "metadata": {},
   "outputs": [],
   "source": [
    "# Exibindo a quantidade de valores acima de 2000:\n",
    "quantidade_acima_2000 = sum(dados['Aspartate_Aminotransferase'] > 2000)\n",
    "\n",
    "# Imprimindo o resultado\n",
    "print(f\"Quantidade de valores acima de 2000: {quantidade_acima_2000}\")"
   ]
  },
  {
   "cell_type": "markdown",
   "id": "e113cffa",
   "metadata": {},
   "source": [
    "#### Conclusão\n",
    "- Vamos aplicar um tratamento para limpeza de outlier nesta variável.\n",
    "- Como visto anteriormente, dentro dos **valores outliers**, temos somente **dois valores** acima de 2000 enquanto todos os outros abaixo deste valor. \n",
    "- Iremos **manter** no dataset todos os registros **abaixo** do valor 2500 para esta variável."
   ]
  },
  {
   "cell_type": "markdown",
   "id": "7ae354f7",
   "metadata": {},
   "source": [
    "### Tratando Valores Outliers da Variável 'Alamine_Aminotransferase'"
   ]
  },
  {
   "cell_type": "code",
   "execution_count": null,
   "id": "35a98d01",
   "metadata": {},
   "outputs": [],
   "source": [
    "# Shape\n",
    "dados.shape"
   ]
  },
  {
   "cell_type": "code",
   "execution_count": null,
   "id": "f98567df",
   "metadata": {},
   "outputs": [],
   "source": [
    "# Aplica tratamento mantendo somente os registros onde o valor for menor ou igual a 3000 e verifica shape\n",
    "dados = dados[dados.Aspartate_Aminotransferase <= 3000]\n",
    "dados.shape"
   ]
  },
  {
   "cell_type": "code",
   "execution_count": null,
   "id": "36ed77a9",
   "metadata": {},
   "outputs": [],
   "source": [
    "# Verifica Novamente o BoxPlot\n",
    "sns.boxplot(dados.Aspartate_Aminotransferase)"
   ]
  },
  {
   "cell_type": "code",
   "execution_count": null,
   "id": "219ffb00",
   "metadata": {},
   "outputs": [],
   "source": [
    "# Aplica novo tratamento mantendo somente os registros onde o valor for menor ou igual a 2500 e verifica shape\n",
    "dados = dados[dados.Aspartate_Aminotransferase <= 2500]\n",
    "dados.shape"
   ]
  },
  {
   "cell_type": "code",
   "execution_count": null,
   "id": "4da4f2e8",
   "metadata": {},
   "outputs": [],
   "source": [
    "# Verifica Novamente o BoxPlot\n",
    "sns.boxplot(dados.Aspartate_Aminotransferase)"
   ]
  },
  {
   "cell_type": "code",
   "execution_count": null,
   "id": "62a9684a",
   "metadata": {},
   "outputs": [],
   "source": [
    "# Verificando o Describe da variável\n",
    "dados['Aspartate_Aminotransferase'].describe()"
   ]
  },
  {
   "cell_type": "markdown",
   "id": "db8e572a",
   "metadata": {},
   "source": [
    "<br>\n",
    "\n",
    "- Podemos **observar** que agora os dados estão mais **concentrados** em torno da média e mediana, com uma redução significativa nos valores extremos, o que sugere uma distribuição mais normalizada e menos suscetível a distorções causadas por outliers.\n",
    "- A **remoção** dos valores extremos acima de 2500 resultou em uma média reduzida de 96.32 e um novo máximo de 1600, demonstrando que o tratamento de outliers foi efetivo em mitigar impactos de valores anormalmente elevados. Essa limpeza ajuda a melhorar a precisão das análises e dos modelos de machine learning que serão construídos a partir desses dados.\n",
    "\n",
    "<br><br>"
   ]
  },
  {
   "cell_type": "markdown",
   "id": "1135bf72",
   "metadata": {},
   "source": [
    "### Tratando Valores Ausentes\n",
    "\n",
    "- Em geral a **regra** é:\n",
    "---> se a variável tiver **50%** ou mais de valores ausentes, ela precisa ser **deletada**.\n",
    "---> se a variávei tiver em torno de **30%** de valores ausentes, então pode-se escolher uma estratégia de **imputação**. Caso a variável seja numérica, podemos **calcular** a média, extrair a mediana e preencher os valores ausentes com média e mediana. Caso a variável seja categórica, então usamos a **moda**."
   ]
  },
  {
   "cell_type": "code",
   "execution_count": null,
   "id": "4d310638",
   "metadata": {},
   "outputs": [],
   "source": [
    "dados.shape"
   ]
  },
  {
   "cell_type": "code",
   "execution_count": null,
   "id": "0699c110",
   "metadata": {},
   "outputs": [],
   "source": [
    "# Elimina as Linhas com Valores Ausentes em qualquer coluna (any) (Recomendado fazer após de tratamento de Outliers)\n",
    "dados = dados.dropna(how = 'any')  "
   ]
  },
  {
   "cell_type": "code",
   "execution_count": null,
   "id": "eb7a849f",
   "metadata": {},
   "outputs": [],
   "source": [
    "dados.shape"
   ]
  },
  {
   "cell_type": "code",
   "execution_count": null,
   "id": "b4737f35",
   "metadata": {},
   "outputs": [],
   "source": [
    "# Visualiza Dados Aleatórios\n",
    "dados.sample(5)"
   ]
  },
  {
   "cell_type": "markdown",
   "id": "e2eb95e1",
   "metadata": {},
   "source": [
    "<br><br>\n",
    "\n",
    "# RESUMO\n",
    "\n",
    "Antes de avançarmos para a **etapa final de pré-processamento de dados**, crucial para a construção de modelos de machine learning, vamos **recapitular** os passos já concluídos no projeto.:\n",
    "\n",
    "- Primeiro foi definido o **problema de negócio** para saber o objetivo e o que temos que resolver.\n",
    "- Depois nós **extraímos os dados** e nesta etapa pode ser que tenhamos o suporte de um Engenheiro de Dados. No caso deste projeto foi feito a leitura dos dados através de um arquivo csv.\n",
    "- Na sequência foi feita a **Análise Exploratória** onde nós verificamos padrões, detectamos problemas, identifica coisas que precisamos fazer.\n",
    "- Após isso é aplicado a **Limpeza de Dados** de acordo com as técnicas necessárias, estratégias e decisões.\n",
    "- Sempre lembrar de **documentar** tudo o que foi feito em cada atividade."
   ]
  },
  {
   "cell_type": "markdown",
   "id": "6d600eb2",
   "metadata": {},
   "source": [
    "<br><br>\n",
    "# Pré-Processamento de Dados Para Construção de Modelos de ML\n",
    "\n",
    "- Como vimos anteriormente ao aplicarmos o **mapa de correlação** as variáveis 'Direct_Bilirubin' e 'Total_Bilirubin' possuem uma **alta correlação**.\n",
    "- Com isso foi tomada a decisão de **remover** umas das variáveis.\n",
    "\n",
    "<br>\n",
    "\n",
    "#### Removendo Variável 'Direct_Bilirubin'"
   ]
  },
  {
   "cell_type": "code",
   "execution_count": null,
   "id": "bed4e298",
   "metadata": {},
   "outputs": [],
   "source": [
    "# Dada a alta correlação entre as variáveis Direct_Bilirubin e Total_Bilirubin, vamos remover Direct_Bilirubin\n",
    "\n",
    "print(dados.shape)\n",
    "dados = dados.drop('Direct_Bilirubin', axis=1)\n",
    "print(dados.shape)"
   ]
  },
  {
   "cell_type": "markdown",
   "id": "888ccb20",
   "metadata": {},
   "source": [
    "<br>\n",
    "\n",
    "## Dividindo os dados em Dados de Treino e Dados de Teste\n",
    "- Nós **treinamos** o modelo com **dados de treino** e **avaliamos** o modelo com **dados de teste**."
   ]
  },
  {
   "cell_type": "markdown",
   "id": "78b1c5f7",
   "metadata": {},
   "source": [
    "#### Criando Dados de Treino e Teste"
   ]
  },
  {
   "cell_type": "code",
   "execution_count": null,
   "id": "4d306f11",
   "metadata": {},
   "outputs": [],
   "source": [
    "# Cria um objeto separado para a variável target\n",
    "y = dados.Target\n",
    "\n",
    "# Cria um objeto separadado para as variáveis de entrada\n",
    "X = dados.drop('Target', axis = 1)\n",
    "\n",
    "# Split em dados de treino e teste com amostragem estratificada\n",
    "X_treino, X_teste, y_treino, y_teste = train_test_split(X, \n",
    "                                                        y, \n",
    "                                                        test_size = 0.25, \n",
    "                                                        random_state = 1234,\n",
    "                                                        stratify = dados.Target)"
   ]
  },
  {
   "cell_type": "markdown",
   "id": "382b9509",
   "metadata": {},
   "source": [
    "#### Verificando shape"
   ]
  },
  {
   "cell_type": "code",
   "execution_count": null,
   "id": "2d23401d",
   "metadata": {},
   "outputs": [],
   "source": [
    "print(len(X_treino))\n",
    "print(len(X_teste))"
   ]
  },
  {
   "cell_type": "code",
   "execution_count": null,
   "id": "e3709375",
   "metadata": {},
   "outputs": [],
   "source": [
    "# Print do shape\n",
    "print(X_treino.shape, X_teste.shape, y_treino.shape, y_teste.shape)"
   ]
  },
  {
   "cell_type": "markdown",
   "id": "279bb0ca",
   "metadata": {},
   "source": [
    "<br>\n",
    "\n",
    "# Balanceamento de Classes"
   ]
  },
  {
   "cell_type": "code",
   "execution_count": null,
   "id": "48262419",
   "metadata": {},
   "outputs": [],
   "source": [
    "# Value_Counts (contagem de quantos registros por categoria)\n",
    "y_treino.value_counts()"
   ]
  },
  {
   "cell_type": "markdown",
   "id": "0b58e0c1",
   "metadata": {},
   "source": [
    "#### Por que realizar o Balanceamento de Classes ?\n",
    "- Como foi observado no **value_counts()** acima podemos constatar que os dados estão **desbalanceados**, isso signifca que tem muito mais pacientes de uma classe do que da outra.\n",
    "- E o que acontece quando não realizarmos o **balanceamento**? O modelo de ML **aprenderá** muito mais o **padrão** da Classe 1 do que da Classe 0.\n",
    "- Caso não aplicamos técnica de Balanceamento, o modelo tende a ficar **tendencioso**. Por isso **precisamos** fazer o **Balanceamento de Classes**.\n",
    "\n",
    "#### Estratégias para o Balanceamento\n",
    "\n",
    "Temos duas estratégias: \n",
    "- **Reduzir** os registros da classe majoritária e assim diminuir consideravelmente o número de registros no nosso dataset.\n",
    "- Aplicar a técnica de **Oversampling** onde irá ser **aumentado** o número de registros das classe minoritária. E como isso é feito? Sendo criado dados **sintéticos** com base nos dados existentes (para isso existe um pacote no Python para nos ajudar, o pacote imblearn com a função SMOTE)."
   ]
  },
  {
   "cell_type": "markdown",
   "id": "0ecda557",
   "metadata": {},
   "source": [
    "<br>\n",
    "\n",
    "#### Aplicando a Técnica de Oversampling"
   ]
  },
  {
   "cell_type": "code",
   "execution_count": null,
   "id": "2dd28647",
   "metadata": {},
   "outputs": [],
   "source": [
    "# Vamos aplicar a técnica de oversampling e aumentar o número de exemplos da classe minoritária\n",
    "over_sampler = SMOTE(k_neighbors = 2)\n",
    "\n",
    "# Aplica o oversampling (deve ser feito somente com dados de treino)\n",
    "X_res, y_res = over_sampler.fit_resample(X_treino, y_treino)"
   ]
  },
  {
   "cell_type": "markdown",
   "id": "bf76874d",
   "metadata": {},
   "source": [
    "<br>\n",
    "\n",
    "#### Por que a técnica de oversamping dever se aplicada <u>somente</u> nos dados de treino?\n",
    "- A técnica de **oversampling** deve ser aplicada somente nos dados de **treino** para evitar o **vazamento de dados (data leakage)** e garantir uma avaliação justa e realista do modelo durante o teste.\n",
    "- Se o **balanceamento** fosse aplicado ao conjunto de dados completo, incluindo os dados de teste, o modelo poderia acabar sendo avaliado com dados sintéticos, não representativos da realidade, influenciando os resultados dos testes e comprometendo a capacidade de generalização do modelo para novos dados não vistos.\n",
    "- Portanto, mantendo o conjunto de teste original, sem dados sintéticos, asseguramos que a performance do modelo reflete melhor sua eficácia em cenários reais.\n",
    "\n",
    "<br>"
   ]
  },
  {
   "cell_type": "code",
   "execution_count": null,
   "id": "7f644744",
   "metadata": {},
   "outputs": [],
   "source": [
    "# Verificando tamanho antigo x depois que os dados foram balanceados\n",
    "\n",
    "print(len(X_treino))\n",
    "print(len(y_treino))\n",
    "print(len(X_res))\n",
    "print(len(y_res))"
   ]
  },
  {
   "cell_type": "markdown",
   "id": "ed53659c",
   "metadata": {},
   "source": [
    "O dataset de treino agora passou de 423 linhas para 602 linhas."
   ]
  },
  {
   "cell_type": "code",
   "execution_count": null,
   "id": "616cf4a2",
   "metadata": {},
   "outputs": [],
   "source": [
    "# Ajusta o nome do dataset de treino para X\n",
    "X_treino = X_res\n",
    "# Ajusta o nome do dataset de treino para y\n",
    "y_treino = y_res"
   ]
  },
  {
   "cell_type": "code",
   "execution_count": null,
   "id": "43bd8091",
   "metadata": {},
   "outputs": [],
   "source": [
    "# Value_Counts (contagem de quantos registros por categoria)\n",
    "y_treino.value_counts()"
   ]
  },
  {
   "cell_type": "markdown",
   "id": "8dd0791e",
   "metadata": {},
   "source": [
    "<br>\n",
    "\n",
    "# Padronização x Normalização\n",
    "\n",
    "As técnicas de padronização e normalização são usadas no pré-processamento de dados em aprendizado de máquina para preparar variáveis numéricas, ajustando suas escalas. Aqui está quando e por que usar cada uma:\n",
    "\n",
    "<br>\n",
    "\n",
    "### Padronização\n",
    "Transforma os dados de modo que eles tenham média zero e desvio padrão igual a um. \n",
    "- **Quando usar**: Aplicável quando os dados já estão centralizados em torno de uma média e precisam de ajuste na escala. É útil em modelos como SVM e Regressão Logística, que são sensíveis a variações na escala das variáveis de entrada.\n",
    "- **Exemplo prático**: Se medimos altura em centímetros (150-190 cm) e peso em quilogramas (50-100 kg), a padronização permite comparar essas medidas numa escala comum, evitando distorções devido a diferentes intervalos de valores.\n",
    "- **Por que escolher para este projeto**: Optamos pela padronização porque as variáveis têm escalas muito diferentes e há a presença de outliers significativos. A padronização mantém as propriedades estatísticas dos dados, minimizando o impacto dos outliers, ao contrário da normalização que pode distorcer os dados ao comprimir a maioria dos valores em um intervalo estreito.\n",
    "\n",
    "<br>\n",
    "\n",
    "### Normalização\n",
    "Ajusta os dados para que seus valores caibam em um intervalo predefinido, geralmente de **0 a 1**.\n",
    "- **Quando usar**: Ideal para dados com variações extremas nas escalas e onde os algoritmos são sensíveis à magnitude absoluta dos dados, como K-Nearest Neighbors (KNN) e técnicas de clustering.\n",
    "- **Exemplo prático**: Se um dataset contém preços de produtos variando de R$1 a R$1000 e quantidades vendidas de 1 a 20 unidades, a normalização faria com que ambos os atributos tivessem a mesma contribuição no modelo, independentemente da escala original.\n",
    "- **Por que não usamos aqui**: Não foi escolhida devido à presença de outliers, que poderiam ser enfatizados indevidamente, e porque a normalização poderia limitar a eficácia de modelos que assumem uma distribuição normal dos dados.\n",
    "\n",
    "<br>\n",
    "\n",
    "#### Importante:\n",
    "- **Não é necessário** aplicar padronização/normalização na **variável alvo**.\n",
    "- Nós **não aplicamos** as duas técnicas, ou usamos uma ou outra.\n",
    "- A **normalização** pode não ser a melhor escolha se houver **outliers significativos no conjunto de dados**, pois isso poderia comprimir a maioria dos dados em um intervalo muito estreito. Nesses casos, a **padronização é recomendada**.\n",
    "\n",
    "<br>"
   ]
  },
  {
   "cell_type": "markdown",
   "id": "8fdb9400",
   "metadata": {},
   "source": [
    "<br>\n",
    "\n",
    "### Aplicando Técnica de Padronização"
   ]
  },
  {
   "cell_type": "code",
   "execution_count": null,
   "id": "7dba7f44",
   "metadata": {},
   "outputs": [],
   "source": [
    "# Visulizando os Dados\n",
    "X_treino.head()"
   ]
  },
  {
   "cell_type": "code",
   "execution_count": null,
   "id": "02ccd30f",
   "metadata": {},
   "outputs": [],
   "source": [
    "# Visualizando o Describe\n",
    "X_treino.describe()"
   ]
  },
  {
   "cell_type": "code",
   "execution_count": null,
   "id": "90bab947",
   "metadata": {},
   "outputs": [],
   "source": [
    "# Calculamos e Salvando a média e desvio padrão dos dados de treino\n",
    "treino_mean = X_treino.mean()\n",
    "treino_std = X_treino.std()\n",
    "print(treino_mean)\n",
    "print(treino_std)"
   ]
  },
  {
   "cell_type": "markdown",
   "id": "a24790e9",
   "metadata": {},
   "source": [
    "#### Padronizando Dados de Treino"
   ]
  },
  {
   "cell_type": "code",
   "execution_count": null,
   "id": "8fc41b23",
   "metadata": {},
   "outputs": [],
   "source": [
    "# Padronização\n",
    "X_treino = (X_treino - treino_mean) / treino_std"
   ]
  },
  {
   "cell_type": "code",
   "execution_count": null,
   "id": "32c8e2e2",
   "metadata": {},
   "outputs": [],
   "source": [
    "# Visulizando os Dados\n",
    "X_treino.head()"
   ]
  },
  {
   "cell_type": "code",
   "execution_count": null,
   "id": "9e82495c",
   "metadata": {},
   "outputs": [],
   "source": [
    "# Visualizando o Describe\n",
    "X_treino.describe()"
   ]
  },
  {
   "cell_type": "markdown",
   "id": "9754a279",
   "metadata": {},
   "source": [
    "#### Padronizando Dados de Teste"
   ]
  },
  {
   "cell_type": "code",
   "execution_count": null,
   "id": "82a7ac97",
   "metadata": {},
   "outputs": [],
   "source": [
    "# Describe\n",
    "X_teste.describe()"
   ]
  },
  {
   "cell_type": "code",
   "execution_count": null,
   "id": "103a3876",
   "metadata": {},
   "outputs": [],
   "source": [
    "# Usamos média e desvio padrão dos dados de treino para padronizar os dados de teste\n",
    "X_teste = (X_teste - treino_mean) / treino_std"
   ]
  },
  {
   "cell_type": "markdown",
   "id": "f13bf521",
   "metadata": {},
   "source": [
    "<br>\n",
    "\n",
    "#### Por que usamos média e desvio dos <u>dados de treino</u> para padronizar os <u>dados de teste</u>?\n",
    "\n",
    "- Usamos a **média** e o **desvio padrão** dos **dados de treino** para padronizar os **dados de teste** para garantir a consistência do modelo durante a avaliação e evitar o **vazamento de dados**.\n",
    "- Ao utilizar os mesmos parâmetros de padronização (média e desvio padrão) obtidos do conjunto de treino, mantemos a **validade do teste**, simulando como o modelo funcionará com novos dados fora do ambiente de treinamento.\n",
    "- Isso ajuda a evitar que o modelo seja **influenciado** por características específicas do conjunto de teste, mantendo uma **avaliação justa e imparcial do desempenho do modelo**."
   ]
  },
  {
   "cell_type": "code",
   "execution_count": null,
   "id": "ada54925",
   "metadata": {},
   "outputs": [],
   "source": [
    "# Describe\n",
    "X_teste.describe()"
   ]
  },
  {
   "cell_type": "markdown",
   "id": "16273ae1",
   "metadata": {},
   "source": [
    "<br>\n",
    "\n",
    "## Sobre a Aplicação das Técnicas de Balanceamento e Padronização/Normalização\n",
    "\n",
    "- **Balanceamento de Classes**: Deve ser aplicado somente nos **dados de treino**. Isso porque o balanceamento pode alterar a distribuição natural dos dados, e aplicá-lo também nos dados de teste poderia resultar em uma avaliação não realista do modelo. O objetivo é que o modelo aprenda a generalizar a partir de um conjunto equilibrado, mas seja avaliado em um cenário que reflete a realidade, onde as classes podem estar desbalanceadas.\n",
    "\n",
    "- **Padronização**: Após calcular a média e o desvio padrão dos **dados de treino** para **padronização**, você utiliza esses mesmos parâmetros (média e desvio padrão do treino) para padronizar tanto os dados de treino quanto os dados de teste. Isso é feito para manter a consistência e evitar o vazamento de dados do conjunto de teste para o modelo. O objetivo é garantir que todas as transformações e ajustes nos dados se baseiem apenas na informação disponível no treino, permitindo que o modelo seja avaliado de forma justa e realista nos dados de teste."
   ]
  },
  {
   "cell_type": "markdown",
   "id": "a8aac84d",
   "metadata": {},
   "source": [
    "<br><br><br><br>\n",
    "\n",
    "<span style=\"color: green; font-size: 40px; font-weight: bold;\">Construindo Modelos de Machine Learning</span>\n",
    "### Nesta etapa do projeto, desenvolveremos e avaliaremos <u>cinco diferentes</u> modelos de machine learning para identificar qual deles apresenta o <u>melhor desempenho</u> para o nosso conjunto de dados.\n",
    "    \n",
    "#### Cada modelo foi escolhido por suas características únicas e capacidade de lidar com problemas de classificação.<br>\n",
    "\n",
    "Abaixo estão os modelos que serão implementados e testados:\n",
    "    \n",
    "- **Modelo 1: Regressão Logística** - Utilizado como benchmark devido à sua simplicidade e eficácia em problemas de classificação binária. Este modelo ajudará a estabelecer uma linha base para a performance que esperamos superar com técnicas mais complexas.<br><br>\n",
    "- **Modelo 2: Random Forest** - Um modelo de ensemble que usa múltiplas árvores de decisão para melhorar a generalização. É conhecido por sua alta precisão e capacidade de ranquear a importância das variáveis.<br><br>\n",
    "- **Modelo 3: KNN (K-Nearest Neighbors)** - Um modelo baseado em instância que faz previsões com base nas labels das amostras mais próximas no espaço de características. Este modelo é eficaz em casos onde a relação entre as variáveis é altamente não-linear.<br><br>\n",
    "- **Modelo 4: Decision Tree (Árvore de Decisão)** - Uma árvore de decisão é útil por sua interpretabilidade, permitindo entender claramente quais critérios o modelo está usando para tomar decisões.<br><br>\n",
    "- **Modelo 5: SVM (Support Vector Machine)** - Ideal para problemas de classificação e regressão de margem grande. O SVM é eficiente na criação de hiperplanos em um espaço multidimensional, o que o torna adequado para casos com muitas variáveis de entrada.<br><br>\n",
    "\n",
    "Cada modelo será treinado utilizando o mesmo conjunto de dados, permitindo uma comparação justa de sua eficácia. A avaliação de cada modelo incluirá métricas como precisão, AUC-ROC, entre outras, dependendo das especificidades de nosso problema e dados."
   ]
  },
  {
   "cell_type": "markdown",
   "id": "1f114c1f",
   "metadata": {},
   "source": [
    "<br><br>\n",
    "\n",
    "## Criando <U>Dataframe</U> para salvar métricas de cada Modelo"
   ]
  },
  {
   "cell_type": "code",
   "execution_count": null,
   "id": "46f5a238",
   "metadata": {},
   "outputs": [],
   "source": [
    "# Cria um dataframe para receber as métricas de cada modelo\n",
    "df_modelos = pd.DataFrame()"
   ]
  },
  {
   "cell_type": "markdown",
   "id": "ef3ec8cc",
   "metadata": {},
   "source": [
    "<br><br>\n",
    "\n",
    "# Modelo 1 com Regressão Logística (Benchmark)\n",
    "\n",
    "- Para a **primeira versão do modelo** o ideal é escolher um **algoritmo simples**, fácil de compreender e que será usado como Benchmark (**modelo base**).\n",
    "\n",
    "Obs: Como parte do processo envolve aleatoriedade, os resultados podem ser ligeiramente diferentes a cada execução deste jupyter notebook."
   ]
  },
  {
   "cell_type": "markdown",
   "id": "ffc81dc4",
   "metadata": {},
   "source": [
    "<br>\n",
    "\n",
    "## Versão 1\n",
    "- Cria várias modelos com o **GridSearchCV** com um **Pipeline** de **StandardScaler** e **LogisticRegression** para encontrar os **melhores hiperparâmetros**.\n",
    "- Após a identificação do **melhor parâmetro**, o modelo final é treinado diretamente com a **LogisticRegression**, usando esses hiperparâmetros otimizados, para garantir um modelo eficiente e pronto para implementação prática.\n",
    "<br><br>"
   ]
  },
  {
   "cell_type": "markdown",
   "id": "6346b047",
   "metadata": {},
   "source": [
    "### <u>Criando o Modelo</u>\n",
    "\n",
    "<br>\n",
    "\n",
    "#### Ajustando Hiperparâmetros do Modelo"
   ]
  },
  {
   "cell_type": "code",
   "execution_count": null,
   "id": "58816983",
   "metadata": {},
   "outputs": [],
   "source": [
    "# Configuração do pipeline de pré-processamento e modelo\n",
    "pipeline = Pipeline([\n",
    "    ('scaler', StandardScaler()),                    # Adiciona o escalonador\n",
    "    ('logistic', LogisticRegression(max_iter=1000))  # Aumenta max_iter para garantir a convergência\n",
    "])"
   ]
  },
  {
   "cell_type": "code",
   "execution_count": null,
   "id": "7749344f",
   "metadata": {},
   "outputs": [],
   "source": [
    "# Define lista de hiperparâmetros\n",
    "tuned_params_v1 = {\n",
    "    'logistic__C': [0.0001, 0.001, 0.01, 0.1, 1, 10, 100, 1000, 10000],\n",
    "    'logistic__penalty': ['l2']  # 'l1' está disponível apenas com o solucionador 'liblinear'\n",
    "}"
   ]
  },
  {
   "cell_type": "markdown",
   "id": "40b688ed",
   "metadata": {},
   "source": [
    "#### Construindo e Treinando Modelos com GridSearch"
   ]
  },
  {
   "cell_type": "code",
   "execution_count": null,
   "id": "4bf1c876",
   "metadata": {},
   "outputs": [],
   "source": [
    "# Criaremos modelos com GridSearch\n",
    "grid_search = GridSearchCV(pipeline, \n",
    "                         tuned_params_v1, \n",
    "                         scoring='roc_auc', \n",
    "                         n_jobs=-1)\n",
    "grid_search.fit(X_treino, y_treino)"
   ]
  },
  {
   "cell_type": "markdown",
   "id": "dd90046c",
   "metadata": {},
   "source": [
    "#### Visualizando o melhor Modelo"
   ]
  },
  {
   "cell_type": "code",
   "execution_count": null,
   "id": "d5ce3838",
   "metadata": {},
   "outputs": [],
   "source": [
    "# Visualziando o melhor modelo\n",
    "grid_search.best_estimator_"
   ]
  },
  {
   "cell_type": "markdown",
   "id": "a68962e6",
   "metadata": {},
   "source": [
    "<br>\n",
    "\n",
    "#### Construindo e Treinando o Modelo com LogisticRegression (usando os melhores parâmetros encontrados anteriormente)"
   ]
  },
  {
   "cell_type": "code",
   "execution_count": null,
   "id": "b8dbf111",
   "metadata": {},
   "outputs": [],
   "source": [
    "# Obtendo os melhores hiperparâmetros encontrados\n",
    "best_params = grid_search.best_params_\n",
    "\n",
    "# Criando o Modelo\n",
    "modelo_v1 = LogisticRegression(\n",
    "    C=best_params['logistic__C'], \n",
    "    penalty='l2', \n",
    "    max_iter=1000\n",
    ")\n",
    "\n",
    "# Treinando o Modelo\n",
    "modelo_v1.fit(X_treino, y_treino)"
   ]
  },
  {
   "cell_type": "markdown",
   "id": "d8c4c96f",
   "metadata": {},
   "source": [
    "<br>\n",
    "\n",
    "### <u>Previsões</u>\n",
    "\n",
    "<br>\n",
    "\n",
    "#### Previsões de Classe"
   ]
  },
  {
   "cell_type": "code",
   "execution_count": null,
   "id": "0dfd49d0",
   "metadata": {},
   "outputs": [],
   "source": [
    " # Previsões com dados de teste\n",
    "y_pred_v1 = modelo_v1.predict(X_teste)"
   ]
  },
  {
   "cell_type": "code",
   "execution_count": null,
   "id": "d657832c",
   "metadata": {},
   "outputs": [],
   "source": [
    "# Mostra as 10 primeiras previsões\n",
    "y_pred_v1[:10]"
   ]
  },
  {
   "cell_type": "markdown",
   "id": "9c24d567",
   "metadata": {},
   "source": [
    "Estas são as previsões diretas das classes de saída, que neste caso são 0 ou 1. Isso significa que o modelo previu, para cada exemplo no conjunto de teste, se pertence à classe 0 (negativo) ou 1 (positivo), baseado nos atributos de entrada.\n",
    "\n",
    "<br>"
   ]
  },
  {
   "cell_type": "markdown",
   "id": "cfab500c",
   "metadata": {},
   "source": [
    "#### Previsões de Probabilidade "
   ]
  },
  {
   "cell_type": "code",
   "execution_count": null,
   "id": "ea1cfabb",
   "metadata": {},
   "outputs": [],
   "source": [
    "# Obtendo as previsões no formato de probabilidade para cada classe\n",
    "y_pred_proba_v1 = modelo_v1.predict_proba(X_teste)"
   ]
  },
  {
   "cell_type": "code",
   "execution_count": null,
   "id": "c3815068",
   "metadata": {},
   "outputs": [],
   "source": [
    "# Mostra as 10 primeiras previsões (lado esq é classe 0 e lad dir é classe 1)\n",
    "y_pred_proba_v1[:10]"
   ]
  },
  {
   "cell_type": "markdown",
   "id": "01c43793",
   "metadata": {},
   "source": [
    "As previsões de probabilidade fornecem as probabilidades de cada classe para as amostras, mostrando o quão confiante o modelo está sobre a classificação de cada amostra em cada classe possível.\n",
    "Por exemplo, para uma previsão array([7.59787361e-01, 2.40212639e-01, 5.23816418e-01]):\n",
    "\n",
    "- 0.75%: probabilidade da amostra pertencer à classe 0.\n",
    "- 0.24%: probabilidade da amostra pertencer à classe 1.\n",
    "- 0.52%: probabilidade da amostra pertencer à classe 0.\n",
    "\n",
    "<br>"
   ]
  },
  {
   "cell_type": "markdown",
   "id": "4eab81ed",
   "metadata": {},
   "source": [
    "####  Previsões de Probabilidade para a Classe Positiva"
   ]
  },
  {
   "cell_type": "code",
   "execution_count": null,
   "id": "b4a6248e",
   "metadata": {},
   "outputs": [],
   "source": [
    "# Obtemos as previsões no formato de probabilidade filtrando para a classe positiva\n",
    "# Precisamos disso para calcula a Curva ROC\n",
    "y_pred_proba_v1 = modelo_v1.predict_proba(X_teste)[:,1]"
   ]
  },
  {
   "cell_type": "code",
   "execution_count": null,
   "id": "ca4ab314",
   "metadata": {},
   "outputs": [],
   "source": [
    "# Mostra as 10 primeiras previsões\n",
    "y_pred_proba_v1[:10]"
   ]
  },
  {
   "cell_type": "markdown",
   "id": "9919ca7a",
   "metadata": {},
   "source": [
    "Esta é uma simplificação das previsões de probabilidade, onde apenas a probabilidade da classe positiva (1) é considerada. Isso é frequentemente usado em cálculos de métricas de performance, como a Curva ROC, onde o interesse é avaliar o desempenho do modelo em prever a classe positiva. Exemplos:\n",
    "\n",
    "- 0.24021264 (24.02%): Baixa confiança do modelo de que a amostra pertence à classe 1.\n",
    "- 0.47618358 (47.62%): Média confiança, o modelo está indeciso, mas tendendo a não classificar a amostra como classe 1.\n",
    "- 0.99993333 (99.99%): Alta confiança do modelo de que a amostra pertence à classe 1, quase certeza.\n",
    "\n",
    "<br>"
   ]
  },
  {
   "cell_type": "markdown",
   "id": "b781d451",
   "metadata": {},
   "source": [
    "#### Análise de um Ponto de Dados Específico"
   ]
  },
  {
   "cell_type": "code",
   "execution_count": null,
   "id": "481b3d59",
   "metadata": {},
   "outputs": [],
   "source": [
    "# Como exemplo, vamos verificar um dos pontos de dados (altere o valor de i se desejar)\n",
    "i = 16 \n",
    "print('Para o ponto de dado {}, classe real = {}, classe prevista = {}, probabilidade prevista = {}'.\n",
    "      format(i, y_teste.iloc[i], y_pred_v1[i], y_pred_proba_v1[i]))"
   ]
  },
  {
   "cell_type": "markdown",
   "id": "d2cf55ec",
   "metadata": {},
   "source": [
    "Finalmente, olhar para as previsões de um ponto de dados específico ajuda a interpretar como o modelo está performando em casos individuais. Isso pode ser útil para debugging ou para entender casos atípicos. Por exemplo:\n",
    "\n",
    "Para o ponto de dado 16, classe real = 1, classe prevista = 1, probabilidade prevista = 0.5685641472279082 indica que o modelo corretamente previu a classe da amostra como 1 (classe positiva) e estava moderadamente confiante na sua decisão.\n",
    "\n",
    "<br><br>"
   ]
  },
  {
   "cell_type": "markdown",
   "id": "57fe16d4",
   "metadata": {},
   "source": [
    "### <u>Avaliação do Modelo</u>"
   ]
  },
  {
   "cell_type": "markdown",
   "id": "3f760ad2",
   "metadata": {},
   "source": [
    "#### Matriz de Confusão"
   ]
  },
  {
   "cell_type": "code",
   "execution_count": null,
   "id": "82b58c1c",
   "metadata": {},
   "outputs": [],
   "source": [
    "# Matriz de confusão\n",
    "confusion_matrix(y_teste, y_pred_v1)"
   ]
  },
  {
   "cell_type": "markdown",
   "id": "6ed81975",
   "metadata": {},
   "source": [
    "- A matriz de confusão mostra a quantidade de previsões corretas e incorretas divididas por categoria.\n",
    "- 31 verdadeiros negativos (TN), 9 falsos positivos (FP), 40 falsos negativos (FN) e 61 verdadeiros positivos (TP).\n",
    "\n",
    "<br>"
   ]
  },
  {
   "cell_type": "markdown",
   "id": "48a23b49",
   "metadata": {},
   "source": [
    "#### Métrica AUC - ROC"
   ]
  },
  {
   "cell_type": "code",
   "execution_count": null,
   "id": "5986e60e",
   "metadata": {},
   "outputs": [],
   "source": [
    "# Calcula a métrica global AUC (Area Under The Curve) com dados reais e previsões em teste\n",
    "roc_auc_v1 = roc_auc_score(y_teste, y_pred_v1)\n",
    "\n",
    "# Exibe o valor\n",
    "print(\"ROC AUC Score:\", roc_auc_v1)"
   ]
  },
  {
   "cell_type": "markdown",
   "id": "19b097b7",
   "metadata": {},
   "source": [
    "- A AUC (Área Sob a Curva) da curva ROC (Receiver Operating Characteristic) é uma medida de desempenho que avalia a capacidade do modelo de distinguir entre as classes.\n",
    "\n",
    "<br>"
   ]
  },
  {
   "cell_type": "markdown",
   "id": "fb613487",
   "metadata": {},
   "source": [
    "#### Curva ROC"
   ]
  },
  {
   "cell_type": "code",
   "execution_count": null,
   "id": "de658307",
   "metadata": {},
   "outputs": [],
   "source": [
    "# Calcula a curva ROC com dados e previsões em teste\n",
    "fpr_v1, tpr_v1, thresholds = roc_curve(y_teste, y_pred_proba_v1)\n",
    "auc_v1 = auc(fpr_v1, tpr_v1)\n",
    "print(\"AUC da curva ROC:\", auc_v1)"
   ]
  },
  {
   "cell_type": "markdown",
   "id": "d0af8849",
   "metadata": {},
   "source": [
    "- A curva ROC mostra a relação entre a taxa de verdadeiros positivos e a taxa de falsos positivos em diferentes limiares de classificação.\n",
    "\n",
    "<br>"
   ]
  },
  {
   "cell_type": "markdown",
   "id": "f1d04650",
   "metadata": {},
   "source": [
    "#### Acurácia do Modelo"
   ]
  },
  {
   "cell_type": "code",
   "execution_count": null,
   "id": "7e230af4",
   "metadata": {},
   "outputs": [],
   "source": [
    "# Acurácia em teste\n",
    "acuracia_v1 = accuracy_score(y_teste, y_pred_v1)\n",
    "print(acuracia_v1)"
   ]
  },
  {
   "cell_type": "markdown",
   "id": "c5cc6026",
   "metadata": {},
   "source": [
    "- A acurácia é a fração de previsões corretas entre o total de casos.\n",
    "\n",
    "<br>"
   ]
  },
  {
   "cell_type": "markdown",
   "id": "2ff2f4b0",
   "metadata": {},
   "source": [
    "#### Calculando Acurácia em um Único Bloco"
   ]
  },
  {
   "cell_type": "code",
   "execution_count": null,
   "id": "16bad5f6",
   "metadata": {},
   "outputs": [],
   "source": [
    "# Calculando a Acurácia em um Único Bloco\n",
    "tn, fp, fn, tp = confusion_matrix(y_teste, y_pred_v1).ravel()\n",
    "roc_auc_v1 = roc_auc_score(y_teste, y_pred_v1)\n",
    "fpr_v1, tpr_v1, thresholds = roc_curve(y_teste, y_pred_proba_v1)\n",
    "auc_v1 = auc(fpr_v1, tpr_v1)\n",
    "acuracia_v1 = accuracy_score(y_teste, y_pred_v1)\n",
    "\n",
    "print(acuracia_v1)"
   ]
  },
  {
   "cell_type": "markdown",
   "id": "d3e23dca",
   "metadata": {},
   "source": [
    "<br>\n",
    "\n",
    "#### Adiciona o Resultado das Métricas a um Dicionário"
   ]
  },
  {
   "cell_type": "code",
   "execution_count": null,
   "id": "395cac0a",
   "metadata": {},
   "outputs": [],
   "source": [
    "# Dicionário com as métricas do modelo_v1\n",
    "dict_modelo_v1 = {'Nome': 'modelo_v1', \n",
    "                  'Algoritmo': 'Regressão Logística', \n",
    "                  'ROC_AUC Score': roc_auc_v1,\n",
    "                  'AUC Score': auc_v1,\n",
    "                  'Acurácia': acuracia_v1}"
   ]
  },
  {
   "cell_type": "markdown",
   "id": "c0728f51",
   "metadata": {},
   "source": [
    "#### Salvando o Modelo em Disco"
   ]
  },
  {
   "cell_type": "code",
   "execution_count": null,
   "id": "be6e107d",
   "metadata": {},
   "outputs": [],
   "source": [
    "# Salva o modelo em disco\n",
    "with open('modelos/modelo_1_v1.pkl', 'wb') as pickle_file:\n",
    "      joblib.dump(modelo_v1, 'modelos/modelo_1_v1.pkl') "
   ]
  },
  {
   "cell_type": "markdown",
   "id": "e3f0f71b",
   "metadata": {},
   "source": [
    "<br>\n",
    "\n",
    "## Versão 2\n",
    "- Aplica a Técnica de **Feature Selection** no **modelo_v1** criado na **Versão 1**\n",
    "- Re-cria o modelo utilizando as **5 variáveis mais importantes**\n",
    "\n",
    "<br>"
   ]
  },
  {
   "cell_type": "markdown",
   "id": "b399f26c",
   "metadata": {},
   "source": [
    "### <u>Criando o Modelo</u>\n",
    "\n",
    "<br>\n",
    "\n",
    "#### Aplicando Técnica de Feature Selection"
   ]
  },
  {
   "cell_type": "code",
   "execution_count": null,
   "id": "c3cebb7d",
   "metadata": {},
   "outputs": [],
   "source": [
    "# Extrair coeficientes do modelo\n",
    "coeficientes = modelo_v1.coef_[0]\n",
    "\n",
    "# Calcular a importância como o valor absoluto dos coeficientes\n",
    "importancias = np.abs(coeficientes)\n",
    "\n",
    "# Criar DataFrame para visualização\n",
    "features = X_treino.columns\n",
    "df_importancias = pd.DataFrame({'Feature': features, 'Importance': importancias})\n",
    "df_importancias = df_importancias.sort_values(by='Importance', ascending=False)\n",
    "\n",
    "# Exibir importâncias\n",
    "print('Visualizando Importância das Variáveis')\n",
    "print(80*'-')\n",
    "print(df_importancias)"
   ]
  },
  {
   "cell_type": "code",
   "execution_count": null,
   "id": "501d1592",
   "metadata": {},
   "outputs": [],
   "source": [
    "# Visualizando Através de Gráfico\n",
    "\n",
    "# Gráfico de barras da importância das variáveis\n",
    "plt.figure(figsize=(10, 8))\n",
    "sns.barplot(x='Importance', y='Feature', data=df_importancias)\n",
    "plt.title('Feature Importance from Logistic Regression Coefficients')\n",
    "plt.xlabel('Importance')\n",
    "plt.ylabel('Features')\n",
    "plt.show()"
   ]
  },
  {
   "cell_type": "markdown",
   "id": "cf47e85d",
   "metadata": {},
   "source": [
    "#### Escolha das Variáveis"
   ]
  },
  {
   "cell_type": "code",
   "execution_count": null,
   "id": "b2620c87",
   "metadata": {},
   "outputs": [],
   "source": [
    "# Critério: Foi detectado uma disparidade entre as 5 primeiras e as outras 4 variáveis.\n",
    "#           Vamos escolher as 5 primerias\n",
    "\n",
    "# Pega os índices das 5 variáveis mais importantes\n",
    "indices_importantes = np.argsort(-np.abs(coeficientes))[:5]  \n",
    "\n",
    "# Supondo que as colunas em X_treino estão em ordem com os coeficientes\n",
    "variaveis_importantes = X_treino.columns[indices_importantes]"
   ]
  },
  {
   "cell_type": "markdown",
   "id": "1441ca96",
   "metadata": {},
   "source": [
    "#### Construindo e Treinando o Modelo com Variáveis Selecionadas"
   ]
  },
  {
   "cell_type": "code",
   "execution_count": null,
   "id": "938ab555",
   "metadata": {},
   "outputs": [],
   "source": [
    "# Reduzindo os conjuntos de dados de treino e teste para as variáveis selecionadas\n",
    "X_treino_reduzido = X_treino[variaveis_importantes]\n",
    "X_teste_reduzido = X_teste[variaveis_importantes]\n",
    "\n",
    "# Criando o modelo com os melhores hiperparâmetros encontrados anteriormente\n",
    "modelo_v2 = LogisticRegression(\n",
    "    C=best_params['logistic__C'], \n",
    "    penalty='l2', \n",
    "    max_iter=1000\n",
    ")\n",
    "\n",
    "# Treinamento do modelo\n",
    "modelo_v2.fit(X_treino_reduzido, y_treino)"
   ]
  },
  {
   "cell_type": "markdown",
   "id": "4b59fece",
   "metadata": {},
   "source": [
    "#### Realizando Previsões"
   ]
  },
  {
   "cell_type": "code",
   "execution_count": null,
   "id": "f8f67f17",
   "metadata": {},
   "outputs": [],
   "source": [
    "y_pred_v2 = modelo_v2.predict(X_teste_reduzido)\n",
    "y_pred_proba_v2 = modelo_v2.predict_proba(X_teste_reduzido)[:, 1]  # Probabilidades para a classe positiva"
   ]
  },
  {
   "cell_type": "markdown",
   "id": "3d7e7e91",
   "metadata": {},
   "source": [
    "#### Avaliando o Modelo"
   ]
  },
  {
   "cell_type": "code",
   "execution_count": null,
   "id": "4296a7c6",
   "metadata": {},
   "outputs": [],
   "source": [
    "roc_auc_v2 = roc_auc_score(y_teste, y_pred_v2)\n",
    "fpr_v2, tpr_v2, thresholds_v2 = roc_curve(y_teste, y_pred_proba_v2)\n",
    "auc_v2 = auc(fpr_v2, tpr_v2)\n",
    "acuracia_v2 = accuracy_score(y_teste, y_pred_v2)\n",
    "\n",
    "print(\"Acurácia da Versão 2:\", acuracia_v2)"
   ]
  },
  {
   "cell_type": "markdown",
   "id": "9b78f8b7",
   "metadata": {},
   "source": [
    "#### Adiciona o Resultado das Métricas a um Dicionário"
   ]
  },
  {
   "cell_type": "code",
   "execution_count": null,
   "id": "b9a76340",
   "metadata": {},
   "outputs": [],
   "source": [
    "# Dicionário com as métricas do modelo_v2\n",
    "dict_modelo_v2 = {\n",
    "    'Nome': 'modelo_v2', \n",
    "    'Algoritmo': 'Regressão Logística com Variáveis Selecionadas',\n",
    "    'ROC_AUC Score': roc_auc_v2,\n",
    "    'AUC Score': auc_v2,\n",
    "    'Acurácia': acuracia_v2\n",
    "}"
   ]
  },
  {
   "cell_type": "markdown",
   "id": "3564a460",
   "metadata": {},
   "source": [
    "#### Salvando o Modelo em Disco"
   ]
  },
  {
   "cell_type": "code",
   "execution_count": null,
   "id": "f196a0a8",
   "metadata": {},
   "outputs": [],
   "source": [
    "with open('modelos/modelo_1_v2.pkl', 'wb') as pickle_file:\n",
    "    joblib.dump(modelo_v2, pickle_file)\n",
    "\n",
    "print(\"Modelo Versão 2 salvo com sucesso.\")"
   ]
  },
  {
   "cell_type": "markdown",
   "id": "eb314e21",
   "metadata": {},
   "source": [
    "<br>\n",
    "\n",
    "### Salvando os Resultados em um Dataframe"
   ]
  },
  {
   "cell_type": "code",
   "execution_count": null,
   "id": "7b6a0baf",
   "metadata": {},
   "outputs": [],
   "source": [
    "# Lista de dicionários contendo as métricas dos modelos\n",
    "modelos = [dict_modelo_v1, dict_modelo_v2]\n",
    "\n",
    "# Convertendo lista de dicionários para DataFrame\n",
    "modelos_df = pd.DataFrame(modelos)\n",
    "\n",
    "# Concatena o novo DataFrame com o existente\n",
    "df_modelos = pd.concat([df_modelos, modelos_df], ignore_index=True)"
   ]
  },
  {
   "cell_type": "code",
   "execution_count": null,
   "id": "e9b7ba2f",
   "metadata": {},
   "outputs": [],
   "source": [
    "# Exibe o Dataframe\n",
    "display(df_modelos)"
   ]
  },
  {
   "cell_type": "markdown",
   "id": "6371b087",
   "metadata": {},
   "source": [
    "<br><br><br>\n",
    "\n",
    "# Modelo 2 com Random Forest\n",
    "\n",
    "- Nosso desafio agora é tentar obter um modelo **melhor que a versão 1**. Vamos tentar o algoritmo **Random Forest**.\n",
    "\n",
    "<br>"
   ]
  },
  {
   "cell_type": "markdown",
   "id": "d5fb67b2",
   "metadata": {},
   "source": [
    "<br>\n",
    "\n",
    "## Versão 1\n",
    "- Cria várias modelos com o **RandomizedSearchCV** para encontrar os **melhores hiperparâmetros**.\n",
    "- Após a identificação do **melhor** modelo, o modelo final é treinado diretamente com a **RandomForestClassifier**, usando esses **hiperparâmetros** otimizados, para garantir um modelo eficiente e pronto para implementação prática.\n",
    "\n",
    "<br>"
   ]
  },
  {
   "cell_type": "markdown",
   "id": "0340efc3",
   "metadata": {},
   "source": [
    "### <u>Criando o Modelo</u>\n",
    "\n",
    "<br>\n",
    "\n",
    "#### Ajustando Hiperparâmetros do Modelo"
   ]
  },
  {
   "cell_type": "code",
   "execution_count": null,
   "id": "37e7cbd9",
   "metadata": {},
   "outputs": [],
   "source": [
    "# Grid de hiperparâmetros\n",
    "tuned_params_v2 = {'n_estimators': [100, 200, 300, 400, 500], \n",
    "                   'min_samples_split': [2, 5, 10], \n",
    "                   'min_samples_leaf': [1, 2, 4]}"
   ]
  },
  {
   "cell_type": "markdown",
   "id": "a1760963",
   "metadata": {},
   "source": [
    "#### Construindo e Treinando Modelos com RandomizedSearchCV"
   ]
  },
  {
   "cell_type": "code",
   "execution_count": null,
   "id": "5c9e579d",
   "metadata": {},
   "outputs": [],
   "source": [
    "# Cria o modelo com RandomizedSearchCV para buscar a melhor combinação de hiperparâmetros\n",
    "modelo = RandomizedSearchCV(RandomForestClassifier(), \n",
    "                               tuned_params_v2, \n",
    "                               n_iter = 15, \n",
    "                               scoring = 'roc_auc', \n",
    "                               n_jobs  = -1)\n",
    "\n",
    "# Treina o modelo\n",
    "modelo.fit(X_treino, y_treino)"
   ]
  },
  {
   "cell_type": "markdown",
   "id": "0ec241a9",
   "metadata": {},
   "source": [
    "#### Visualizando o melhor Modelo"
   ]
  },
  {
   "cell_type": "code",
   "execution_count": null,
   "id": "295353f8",
   "metadata": {},
   "outputs": [],
   "source": [
    "# Extrai o melhor modelo\n",
    "modelo.best_estimator_"
   ]
  },
  {
   "cell_type": "markdown",
   "id": "4e45987f",
   "metadata": {},
   "source": [
    "<br>\n",
    "\n",
    "#### Construindo e Treinando o Modelo com LogisticRegression (usando os melhores parâmetros encontrados anteriormente)"
   ]
  },
  {
   "cell_type": "code",
   "execution_count": null,
   "id": "69dac493",
   "metadata": {},
   "outputs": [],
   "source": [
    "# Extrai o melhor modelo e seus hiperparâmetros\n",
    "best_rf = modelo.best_estimator_\n",
    "best_params = best_rf.get_params()\n",
    "\n",
    "# Recria o modelo com os melhores hiperparâmetros\n",
    "modelo_v1 = RandomForestClassifier(\n",
    "    n_estimators=best_params['n_estimators'],\n",
    "    min_samples_split=best_params['min_samples_split'],\n",
    "    min_samples_leaf=best_params['min_samples_leaf'],\n",
    "    max_features=best_params['max_features'],\n",
    "    bootstrap=best_params['bootstrap']\n",
    ")\n",
    "\n",
    "# Treinando o modelo final no conjunto de treino\n",
    "modelo_v1.fit(X_treino, y_treino)"
   ]
  },
  {
   "cell_type": "markdown",
   "id": "669f1528",
   "metadata": {},
   "source": [
    "<br>\n",
    "\n",
    "### Previsões"
   ]
  },
  {
   "cell_type": "code",
   "execution_count": null,
   "id": "eff30c90",
   "metadata": {},
   "outputs": [],
   "source": [
    "# Previsões com dados de teste\n",
    "y_pred_v1 = modelo_v1.predict(X_teste)\n",
    "print('Previsões de Classe')\n",
    "print(y_pred_v1[:10])\n",
    "\n",
    "print(80 * '-')\n",
    "\n",
    "# Obtemos as previsões no formato de probabilidade para cada classe\n",
    "y_pred_proba_v1 = modelo_v1.predict_proba(X_teste)\n",
    "print('Previsões de Probabilidade')\n",
    "print(y_pred_proba_v1[:10])\n",
    "\n",
    "print(80 * '-')\n",
    "\n",
    "# Obtemos as previsões no formato de probabilidade filtrando para a classe positiva (Calculo da Curva ROC)\n",
    "y_pred_proba_v1 = modelo_v1.predict_proba(X_teste)[:,1]\n",
    "print('Previsões de Probabilidade para a Classe Positiva')\n",
    "print(y_pred_proba_v1[:10])"
   ]
  },
  {
   "cell_type": "markdown",
   "id": "3ef6a8cd",
   "metadata": {},
   "source": [
    "<br>\n",
    "\n",
    "### Avaliação do Modelo"
   ]
  },
  {
   "cell_type": "code",
   "execution_count": null,
   "id": "fa5f2a2d",
   "metadata": {},
   "outputs": [],
   "source": [
    "# Matriz de confusão\n",
    "confusion_matrix(y_teste, y_pred_v1)"
   ]
  },
  {
   "cell_type": "code",
   "execution_count": null,
   "id": "825efa56",
   "metadata": {},
   "outputs": [],
   "source": [
    "# Calculando a Acurácia em um Único Bloco\n",
    "\n",
    "# Extraindo cada valor da Confusion Matrix\n",
    "tn, fp, fn, tp = confusion_matrix(y_teste, y_pred_v1).ravel()\n",
    "\n",
    "# Calcula a métrica global AUC (Area Under The Curve) com dados reais e previsões em teste\n",
    "roc_auc_v1 = roc_auc_score(y_teste, y_pred_v1)\n",
    "\n",
    "# Calcula a curva ROC com dados e previsões em teste\n",
    "fpr_v1, tpr_v1, thresholds = roc_curve(y_teste, y_pred_proba_v1)\n",
    "\n",
    "# AUC em teste\n",
    "auc_v1 = auc(fpr_v1, tpr_v1)\n",
    "\n",
    "# Acurácia em teste\n",
    "acuracia_v1 = accuracy_score(y_teste, y_pred_v1)\n",
    "print(acuracia_v1)"
   ]
  },
  {
   "cell_type": "markdown",
   "id": "fd36f7b3",
   "metadata": {},
   "source": [
    "<br>\n",
    "\n",
    "#### Adiciona o Resultado das Métricas a um Dicionário"
   ]
  },
  {
   "cell_type": "code",
   "execution_count": null,
   "id": "2d491546",
   "metadata": {},
   "outputs": [],
   "source": [
    "# Dicionário com as métricas do modelo_v1\n",
    "dict_modelo_v1 = {'Nome': 'modelo_v1', \n",
    "                  'Algoritmo': 'Random Forest', \n",
    "                  'ROC_AUC Score': roc_auc_v1,\n",
    "                  'AUC Score': auc_v1,\n",
    "                  'Acurácia': acuracia_v1}"
   ]
  },
  {
   "cell_type": "markdown",
   "id": "479b51cb",
   "metadata": {},
   "source": [
    "#### Salvando o Modelo em Disco"
   ]
  },
  {
   "cell_type": "code",
   "execution_count": null,
   "id": "c2eb201f",
   "metadata": {},
   "outputs": [],
   "source": [
    "# Salva o modelo em disco\n",
    "with open('modelos/modelo_2_v1.pkl', 'wb') as pickle_file:\n",
    "      joblib.dump(modelo_v1, 'modelos/modelo_2_v1.pkl') "
   ]
  },
  {
   "cell_type": "markdown",
   "id": "415266d8",
   "metadata": {},
   "source": [
    "<br>\n",
    "\n",
    "## Versão 2\n",
    "- Aplica a Técnica de **Feature Selection** no **modelo_v1** criado na **Versão 1**\n",
    "- Re-cria o modelo utilizando as **5 variáveis mais importantes**\n",
    "\n",
    "<br>"
   ]
  },
  {
   "cell_type": "markdown",
   "id": "d7bac001",
   "metadata": {},
   "source": [
    "### <u>Criando o Modelo</u>\n",
    "\n",
    "<br>\n",
    "\n",
    "#### Aplicando Técnica de Feature Selection"
   ]
  },
  {
   "cell_type": "code",
   "execution_count": null,
   "id": "66b3d710",
   "metadata": {},
   "outputs": [],
   "source": [
    "# Extrair coeficientes do modelo\n",
    "importancias = modelo_v1.feature_importances_\n",
    "\n",
    "# Criar DataFrame para visualização\n",
    "features = X_treino.columns\n",
    "df_importancias = pd.DataFrame({'Feature': features, 'Importance': importancias})\n",
    "df_importancias = df_importancias.sort_values(by='Importance', ascending=False)\n",
    "\n",
    "# Exibir importâncias\n",
    "print('Visualizando Importância das Variáveis')\n",
    "print(80*'-')\n",
    "print(df_importancias)"
   ]
  },
  {
   "cell_type": "code",
   "execution_count": null,
   "id": "fae6e3b3",
   "metadata": {},
   "outputs": [],
   "source": [
    "# Gráfico de barras da importância das variáveis\n",
    "plt.figure(figsize=(10, 8))\n",
    "sns.barplot(x='Importance', y='Feature', data=df_importancias)\n",
    "plt.title('Feature Importance from Random Forest')\n",
    "plt.xlabel('Importance')\n",
    "plt.ylabel('Features')\n",
    "plt.show()"
   ]
  },
  {
   "cell_type": "markdown",
   "id": "56c90d62",
   "metadata": {},
   "source": [
    "#### Construindo e Treinando o Modelo com Variáveis Selecionadas"
   ]
  },
  {
   "cell_type": "code",
   "execution_count": null,
   "id": "f882887b",
   "metadata": {},
   "outputs": [],
   "source": [
    "# Reduzindo os conjuntos de dados de treino e teste para as variáveis selecionadas\n",
    "X_treino_reduzido = X_treino[variaveis_importantes]\n",
    "X_teste_reduzido = X_teste[variaveis_importantes]\n",
    "\n",
    "# Criando o modelo com os melhores hiperparâmetros encontrados anteriormente\n",
    "modelo_v2 = RandomForestClassifier(\n",
    "    n_estimators=best_rf.get_params()['n_estimators'],\n",
    "    min_samples_split=best_rf.get_params()['min_samples_split'],\n",
    "    min_samples_leaf=best_rf.get_params()['min_samples_leaf'],\n",
    "    max_features=best_rf.get_params()['max_features'],\n",
    "    bootstrap=best_rf.get_params()['bootstrap']\n",
    ")\n",
    "\n",
    "# Treinamento do modelo com o conjunto de dados reduzido\n",
    "modelo_v2.fit(X_treino_reduzido, y_treino)"
   ]
  },
  {
   "cell_type": "markdown",
   "id": "4eff9edc",
   "metadata": {},
   "source": [
    "<br>\n",
    "\n",
    "### Previsões"
   ]
  },
  {
   "cell_type": "code",
   "execution_count": null,
   "id": "51885d27",
   "metadata": {},
   "outputs": [],
   "source": [
    "# Previsões com dados de teste reduzido\n",
    "y_pred_v2 = modelo_v2.predict(X_teste_reduzido)\n",
    "print('Previsões de Classe')\n",
    "print(y_pred_v2[:10])\n",
    "\n",
    "print(80 * '-')\n",
    "\n",
    "# Obtemos as previsões no formato de probabilidade para cada classe\n",
    "y_pred_proba_v2 = modelo_v2.predict_proba(X_teste_reduzido)\n",
    "print('Previsões de Probabilidade')\n",
    "print(y_pred_proba_v2[:10])\n",
    "\n",
    "print(80 * '-')\n",
    "\n",
    "# Obtemos as previsões no formato de probabilidade filtrando para a classe positiva (Cálculo da Curva ROC)\n",
    "y_pred_proba_v2 = modelo_v2.predict_proba(X_teste_reduzido)[:, 1]\n",
    "print('Previsões de Probabilidade para a Classe Positiva')\n",
    "print(y_pred_proba_v2[:10])"
   ]
  },
  {
   "cell_type": "markdown",
   "id": "0e2914e0",
   "metadata": {},
   "source": [
    "<br>\n",
    "\n",
    "### Avaliação do Modelo"
   ]
  },
  {
   "cell_type": "code",
   "execution_count": null,
   "id": "de02ebe4",
   "metadata": {},
   "outputs": [],
   "source": [
    "# Matriz de confusão\n",
    "conf_matrix_v2 = confusion_matrix(y_teste, y_pred_v2)\n",
    "print('Matriz de Confusão')\n",
    "print(conf_matrix_v2)"
   ]
  },
  {
   "cell_type": "code",
   "execution_count": null,
   "id": "f3709ff4",
   "metadata": {},
   "outputs": [],
   "source": [
    "# Calculando a Acurácia em um Único Bloco\n",
    "tn, fp, fn, tp = conf_matrix_v2.ravel()\n",
    "\n",
    "# Calcula a métrica global AUC (Area Under The Curve) com dados reais e previsões em teste\n",
    "roc_auc_v2 = roc_auc_score(y_teste, y_pred_v2)\n",
    "\n",
    "# Calcula a curva ROC com dados e previsões em teste\n",
    "fpr_v2, tpr_v2, thresholds_v2 = roc_curve(y_teste, y_pred_proba_v2)\n",
    "\n",
    "# AUC em teste\n",
    "auc_v2 = auc(fpr_v2, tpr_v2)\n",
    "\n",
    "# Acurácia em teste\n",
    "acuracia_v2 = accuracy_score(y_teste, y_pred_v2)\n",
    "print(f'Acurácia: {acuracia_v2}')\n",
    "print(f'ROC AUC Score: {roc_auc_v2}')\n",
    "print(f'AUC da Curva ROC: {auc_v2}')"
   ]
  },
  {
   "cell_type": "markdown",
   "id": "b8b2f56b",
   "metadata": {},
   "source": [
    "<br>\n",
    "\n",
    "#### Adiciona o Resultado das Métricas a um Dicionário"
   ]
  },
  {
   "cell_type": "code",
   "execution_count": null,
   "id": "afa9178c",
   "metadata": {},
   "outputs": [],
   "source": [
    "# Adiciona o Resultado das Métricas a um Dicionário\n",
    "dict_modelo_v2 = {\n",
    "    'Nome': 'modelo_v2',\n",
    "    'Algoritmo': 'Random Forest com Variáveis Selecionadas',\n",
    "    'ROC_AUC Score': roc_auc_v2,\n",
    "    'AUC Score': auc_v2,\n",
    "    'Acurácia': acuracia_v2\n",
    "}"
   ]
  },
  {
   "cell_type": "markdown",
   "id": "77511134",
   "metadata": {},
   "source": [
    "#### Salvando o Modelo em Disco"
   ]
  },
  {
   "cell_type": "code",
   "execution_count": null,
   "id": "018f6c25",
   "metadata": {},
   "outputs": [],
   "source": [
    "with open('modelos/modelo_2_v2.pkl', 'wb') as pickle_file:\n",
    "    joblib.dump(modelo_v2, 'modelos/modelo_2_v2.pkl')\n",
    "\n",
    "print(\"Modelo salvo com sucesso!\")"
   ]
  },
  {
   "cell_type": "markdown",
   "id": "f191ed96",
   "metadata": {},
   "source": [
    "<br>\n",
    "\n",
    "### Salvando os Resultados em um Dataframe"
   ]
  },
  {
   "cell_type": "code",
   "execution_count": null,
   "id": "3e849211",
   "metadata": {},
   "outputs": [],
   "source": [
    "# Lista de dicionários contendo as métricas dos modelos\n",
    "modelos = [dict_modelo_v1, dict_modelo_v2]\n",
    "\n",
    "# Convertendo lista de dicionários para DataFrame\n",
    "modelos_df = pd.DataFrame(modelos)\n",
    "\n",
    "# Concatena o novo DataFrame com o existente\n",
    "df_modelos = pd.concat([df_modelos, modelos_df], ignore_index=True)"
   ]
  },
  {
   "cell_type": "code",
   "execution_count": null,
   "id": "85346f12",
   "metadata": {},
   "outputs": [],
   "source": [
    "# Exibe o Dataframe\n",
    "display(df_modelos)"
   ]
  },
  {
   "cell_type": "code",
   "execution_count": null,
   "id": "eb12518e",
   "metadata": {},
   "outputs": [],
   "source": []
  },
  {
   "cell_type": "code",
   "execution_count": null,
   "id": "982f35b1",
   "metadata": {},
   "outputs": [],
   "source": []
  },
  {
   "cell_type": "code",
   "execution_count": null,
   "id": "86b05511",
   "metadata": {},
   "outputs": [],
   "source": []
  },
  {
   "cell_type": "markdown",
   "id": "77f32a39",
   "metadata": {},
   "source": [
    "<br><br><br><br><br><br><br><br><br><br>\n",
    "\n",
    "## Separando Dados de Treino e Teste (Python X R)\n",
    "\n",
    "<br>\n",
    "\n",
    "### No R:\n",
    "- É comum especificar a variável alvo diretamente nos modelos ou funções de treinamento. Por exemplo, ao usar o pacote **caret** ou funções nativas como **lm()** para regressão linear, você normalmente formula o modelo dentro da função, como em **lm(y ~ ., data = dados_treino)**, onde y é a variável alvo e . indica o uso de todas as outras variáveis no dataframe como preditores. \n",
    "- Isso significa que **não há necessidade estrita** de separar fisicamente a variável alvo das demais variáveis antes do treinamento do modelo.\n",
    "\n",
    "<br>\n",
    "\n",
    "### No Python:\n",
    "- Ao usar bibliotecas como **scikit-learn**, você geralmente **precisa passar explicitamente** os arrays ou matrizes de características e a variável alvo separadamente para as funções de treinamento. Por exemplo, ao treinar um regressor logístico, você usaria algo como **LogisticRegression().fit(X_treino, y_treino)**. Aqui, X_treino e y_treino são passados como argumentos separados, o que requer que você prepare esses objetos com antecedência.\n",
    "- Em Python, mesmo que você esteja usando uma biblioteca que permite formulações mais semelhantes ao R (como statsmodels), a **prática comum** e a maioria das APIs de machine learning ainda segue o padrão de passar X e y separadamente.\n",
    "\n",
    "#### Por que isso é feito dessa forma em Python?\n",
    "- A **separação explícita de X e y** fornece clareza e evita erros em um ecossistema que é menos integrado do que o R para análises estatísticas. As bibliotecas de Python, como **scikit-learn**, são projetadas para serem agnósticas quanto ao tipo de dados, permitindo o trabalho com arrays numpy, dataframes pandas, e outros formatos de dados, de uma maneira altamente modular e flexível. Além disso, essa separação ajuda na implementação de uma variedade de pré-processamentos e transformações de maneira mais controlada e sem risco de alterar inadvertidamente a variável alvo.\n",
    "\n",
    "<br><br>\n",
    "\n",
    "Essas diferenças refletem **filosofias de design distintas** e têm implicações práticas na maneira como você prepara e manipula dados para análises e modelagem em cada **linguagem**."
   ]
  },
  {
   "cell_type": "markdown",
   "id": "014ed605",
   "metadata": {},
   "source": [
    "<br><br>\n",
    "# FIM"
   ]
  }
 ],
 "metadata": {
  "kernelspec": {
   "display_name": "Python 3 (ipykernel)",
   "language": "python",
   "name": "python3"
  },
  "language_info": {
   "codemirror_mode": {
    "name": "ipython",
    "version": 3
   },
   "file_extension": ".py",
   "mimetype": "text/x-python",
   "name": "python",
   "nbconvert_exporter": "python",
   "pygments_lexer": "ipython3",
   "version": "3.9.7"
  }
 },
 "nbformat": 4,
 "nbformat_minor": 5
}
