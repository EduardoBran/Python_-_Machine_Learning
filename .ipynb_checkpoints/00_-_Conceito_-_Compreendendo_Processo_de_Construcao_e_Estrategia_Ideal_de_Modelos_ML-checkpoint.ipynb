{
 "cells": [
  {
   "cell_type": "markdown",
   "id": "8b2d2276",
   "metadata": {},
   "source": [
    "# <center><font color='blue'>Data Science Academy</font></center>\n",
    "# <center><font color='blue'>Big Data Real-Time Analytics com Python e Spark</font></center>"
   ]
  },
  {
   "cell_type": "markdown",
   "id": "135b12b6",
   "metadata": {},
   "source": [
    "<br><br>\n",
    "\n",
    "# <center><font size=8><u>Conceitos</u></font></center>"
   ]
  },
  {
   "cell_type": "markdown",
   "id": "7b2b54f7",
   "metadata": {},
   "source": [
    "# Compreendendo o Processo de Construção de Modelos de Machine Learning"
   ]
  },
  {
   "cell_type": "markdown",
   "id": "1e33b431",
   "metadata": {},
   "source": [
    "<br>\n",
    "\n",
    "## Basicamente temos 4 etapas principais:\n",
    "\n",
    "- Pré-Processamento\n",
    "- Aprendizado\n",
    "- Avaliação\n",
    "- Previsão\n",
    "\n",
    "Vamos falar um pouco sobre cada um deles."
   ]
  },
  {
   "cell_type": "markdown",
   "id": "dbd85efe",
   "metadata": {},
   "source": [
    "<br>\n",
    "\n",
    "### Pré-Processamento <br>\n",
    "\n",
    "- Aqui é onde vamos preparar os dados.\n",
    "- Coletamos os dados de uma fonte (de acordo com a definição do problema), pré processar os dados e depois dividi-los em dados de treino e dados de teste.\n",
    "- Aqui temos algumas das atividades do Pré-Processamento: **Transformação de Variáveis**, **Feature Selection**, **Redução de Dimensionalidade** e **Amostragem**."
   ]
  },
  {
   "cell_type": "markdown",
   "id": "7a78902d",
   "metadata": {},
   "source": [
    "### Aprendizagem <br>\n",
    "\n",
    "- Uma vez pré processados e criados dados de treino e teste, iremos treinar o algoritmo.\n",
    "- Neste etapa iremos realizar: **Seleção do Modelo**, **Cross Validation**, **Métricas de Performance** e **Otimização**."
   ]
  },
  {
   "cell_type": "markdown",
   "id": "00ba3272",
   "metadata": {},
   "source": [
    "\n",
    "\n",
    "### Avaliação <br>\n",
    "\n",
    "- Até aqui o modelo foi treinado com os **dados de teste**. Após isso e para garantir que o modelo tenha uma **boa performance**, temos que apresentar novos dados. Assim nós avaliamos o modelo com os **dados de teste**.\n",
    "- Neste etapa iremos realizar: **Validação do Modelo** e **Otimização**."
   ]
  },
  {
   "cell_type": "markdown",
   "id": "a47816b7",
   "metadata": {},
   "source": [
    "### Previsão <br>\n",
    "\n",
    "- Aqui iremos apresentar ao modelo **novos dados**."
   ]
  },
  {
   "cell_type": "markdown",
   "id": "8b5b444a",
   "metadata": {},
   "source": [
    "<br><br>\n",
    "\n",
    "# Qual a Estratégia Ideal Para Construir Modelos de Machine Learning? \n",
    "\n",
    "<br>\n",
    "\n",
    "\n",
    "#### Diferença entre Algoritmo x Modelo\n",
    "\n",
    "- **Algoritmo** é a sequência de passos para executar determinada tarefa, que implementamos, normalmente, através de classes com métodos e atributos usando linguagem de programação. Quando executamos algoritmo usando dados como entrada o resultado final é o que chamamos de **Modelo de Machine Learning**.\n",
    "<br>\n",
    "\n",
    "#### Podemos construir Modelos de Machine Learning de duas formas principais:\n",
    "\n",
    "- Desenvolvendo todo o algoritmo do zero usando uma linguagem de programação.\n",
    "- Utilizando um framework onde os principais algoritmos já estão implementados.\n",
    "\n",
    "<br>\n",
    "\n",
    "#### Portanto, qual seria então a estratégia ideal?\n",
    "\n",
    "- A **estratégia inicial** é sempre a que resolve o problema de negócio e entrega valor para a empresa!"
   ]
  },
  {
   "cell_type": "markdown",
   "id": "389b6433",
   "metadata": {},
   "source": [
    "<br><br>\n",
    "\n",
    "# Principais Ferramentas Para Construir Modelos de Machine Learning\n",
    "\n",
    "<br>\n",
    "\n",
    "\n",
    "#### Principais Linguagens de Programação para Machine Learning:\n",
    "\n",
    "- Python (oferece o maior número de frameworks)\n",
    "- R\n",
    "- Scala\n",
    "- Java\n",
    "- JavaScript\n",
    "- Go\n",
    "- Julia\n",
    "- C++ (tem o menor número de frameworks, necessida construir um do zero, melhor parte é que o Modelo ficará mais rápido que em qualquer outra Linguagem)\n",
    "\n",
    "<br>\n",
    "\n",
    "#### Principais frameworks para Machine Learning:\n",
    "<br>\n",
    "\n",
    "<table border=\"1\" class=\"dataframe\" style=\"text-align: left;\">\n",
    "<thead>\n",
    "    <tr>\n",
    "        <th style=\"text-align: left;\">Nome_Framework</th>\n",
    "        <th style=\"text-align: right;\">Linguagens</th>\n",
    "    </tr>\n",
    "</thead>\n",
    "<tbody>\n",
    "    <tr>\n",
    "        <td>Scikit-learn</td>\n",
    "        <td>Python</td>\n",
    "    </tr>\n",
    "    <tr>\n",
    "        <td>TensorFlow</td>\n",
    "        <td>Python, R, Java, C++</td>\n",
    "    </tr>\n",
    "    <tr>\n",
    "        <td>PyTorch</td>\n",
    "        <td>Python, C++</td>\n",
    "    </tr>\n",
    "    <tr>\n",
    "        <td>Apache Mahout</td>\n",
    "        <td>Python, Java</td>\n",
    "    </tr>\n",
    "    <tr>\n",
    "        <td>Spark MLlib</td>\n",
    "        <td>Python, R, Scala</td>\n",
    "    </tr>\n",
    "    <tr>\n",
    "        <td>MXNet</td>\n",
    "        <td>Python, C++, Java</td>\n",
    "    </tr>\n",
    "    <tr>\n",
    "        <td>H2O</td>\n",
    "        <td>Python, Java</td>\n",
    "    </tr>\n",
    "    <tr>\n",
    "        <td>Weka</td>\n",
    "        <td>Python, Java</td>\n",
    "    </tr>\n",
    "    <tr>\n",
    "        <td>Caret</td>\n",
    "        <td>R</td>\n",
    "    </tr>\n",
    "</tbody>\n",
    "</table>\n",
    "\n"
   ]
  },
  {
   "cell_type": "markdown",
   "id": "3ac2e7c5",
   "metadata": {},
   "source": [
    "<br><br>\n",
    "\n",
    "### Sobre a Linguagem <u>Python</u>:\n",
    "\n",
    "- A linguagem Python oferece duas vantagens principais sobre todas as outras soluções. **Primeiro** por se tratar de uma linguagem de uso geral, ela pode ser usada com qualquer uma destas soluções. **Segundo**, Python possui uma das mais poderosas soluções gratuitas de Machine Learning, o **Scikit-learn**, que estudaremos neste capítulo."
   ]
  },
  {
   "cell_type": "markdown",
   "id": "9785ad8b",
   "metadata": {},
   "source": [
    "<br>\n",
    "\n",
    "### Por Que Usar o Scikit-learn?\n",
    "\n",
    "- É um dos principais frameworks de aprendizado de máquina da atualidade. Foi criado em 2007 e portanto está a um bom tempo no mercado.\n",
    "- Contém uma série de algoritmos já implementados.\n",
    "- Excelente documentação, fácil e intuitivo, possui diversos datasets gratuitos, pode ser usado para fins comerciais e é confiável.\n",
    "- Dificilmente usamos o Scikit-learn de forma isolada. Ele será, muito provavelmente, usado em conjunto com outros pacotes Python como **SciPy** (que é usado com Computação Científica), **NumPy** (usado para Computação Numérica), **matplotlib** (usado para Construção de Gráficos) e **pandas** (usado para Manipulação de Dados)."
   ]
  },
  {
   "cell_type": "markdown",
   "id": "94fc1de7",
   "metadata": {},
   "source": [
    "<br><br><br><br>\n",
    "\n",
    "# FIM"
   ]
  }
 ],
 "metadata": {
  "kernelspec": {
   "display_name": "Python 3 (ipykernel)",
   "language": "python",
   "name": "python3"
  },
  "language_info": {
   "codemirror_mode": {
    "name": "ipython",
    "version": 3
   },
   "file_extension": ".py",
   "mimetype": "text/x-python",
   "name": "python",
   "nbconvert_exporter": "python",
   "pygments_lexer": "ipython3",
   "version": "3.9.7"
  }
 },
 "nbformat": 4,
 "nbformat_minor": 5
}
