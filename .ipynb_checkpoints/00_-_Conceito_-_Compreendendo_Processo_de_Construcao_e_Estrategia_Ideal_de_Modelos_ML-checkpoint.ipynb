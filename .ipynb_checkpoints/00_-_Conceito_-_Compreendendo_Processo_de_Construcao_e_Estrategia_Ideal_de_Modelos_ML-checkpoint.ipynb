{
 "cells": [
  {
   "cell_type": "markdown",
   "id": "0864db5c",
   "metadata": {},
   "source": [
    "# <font color='blue'>Data Science Academy</font>\n",
    "# <font color='blue'>Big Data Real-Time Analytics com Python e Spark</font>"
   ]
  },
  {
   "cell_type": "markdown",
   "id": "23bc48a7",
   "metadata": {},
   "source": [
    "<br><br>\n",
    "\n",
    "# <center><u>Conceito</u></center>"
   ]
  },
  {
   "cell_type": "markdown",
   "id": "f45ce930",
   "metadata": {},
   "source": [
    "# Compreendendo o Processo de Construção de Modelos de Machine Learning"
   ]
  },
  {
   "cell_type": "markdown",
   "id": "c8247b85",
   "metadata": {},
   "source": [
    "<br>\n",
    "\n",
    "## Basicamente temos 4 etapas principais:\n",
    "\n",
    "- Pré-Processamento\n",
    "- Aprendizado\n",
    "- Avaliação\n",
    "- Previsão\n",
    "\n",
    "Vamos falar um pouco sobre cada um deles."
   ]
  },
  {
   "cell_type": "markdown",
   "id": "3204f699",
   "metadata": {},
   "source": [
    "<br>\n",
    "\n",
    "### Pré-Processamento <br>\n",
    "\n",
    "- Aqui é onde vamos preparar os dados.\n",
    "- Coletamos os dados de uma fonte (de acordo com a definição do problema), pré processar os dados e depois dividi-los em dados de treino e dados de teste.\n",
    "- Aqui temos algumas das atividades do Pré-Processamento: **Transformação de Variáveis**, **Feature Selection**, **Redução de Dimensionalidade** e **Amostragem**."
   ]
  },
  {
   "cell_type": "markdown",
   "id": "b345f640",
   "metadata": {},
   "source": [
    "### Aprendizagem <br>\n",
    "\n",
    "- Uma vez pré processados e criados dados de treino e teste, iremos treinar o algoritmo.\n",
    "- Neste etapa iremos realizar: **Seleção do Modelo**, **Cross Validation**, **Métricas de Performance** e **Otimização**."
   ]
  },
  {
   "cell_type": "markdown",
   "id": "1470dfcf",
   "metadata": {},
   "source": [
    "\n",
    "\n",
    "### Avaliação <br>\n",
    "\n",
    "- Até aqui o modelo foi treinado com os **dados de teste**. Após isso e para garantir que o modelo tenha uma **boa performance**, temos que apresentar novos dados. Assim nós avaliamos o modelo com os **dados de teste**.\n",
    "- Neste etapa iremos realizar: **Validação do Modelo** e **Otimização**."
   ]
  },
  {
   "cell_type": "markdown",
   "id": "df4a8a67",
   "metadata": {},
   "source": [
    "### Previsão <br>\n",
    "\n",
    "- Aqui iremos apresentar ao modelo **novos dados**."
   ]
  },
  {
   "cell_type": "markdown",
   "id": "ca97cf60",
   "metadata": {},
   "source": [
    "<br><br>\n",
    "\n",
    "## Qual a Estratégia Ideal Para Construir Modelos de Machine Learning? <br>\n",
    "\n",
    "- "
   ]
  },
  {
   "cell_type": "code",
   "execution_count": null,
   "id": "60ae1ca4",
   "metadata": {},
   "outputs": [],
   "source": []
  }
 ],
 "metadata": {
  "kernelspec": {
   "display_name": "Python 3 (ipykernel)",
   "language": "python",
   "name": "python3"
  },
  "language_info": {
   "codemirror_mode": {
    "name": "ipython",
    "version": 3
   },
   "file_extension": ".py",
   "mimetype": "text/x-python",
   "name": "python",
   "nbconvert_exporter": "python",
   "pygments_lexer": "ipython3",
   "version": "3.9.7"
  }
 },
 "nbformat": 4,
 "nbformat_minor": 5
}
