{
 "cells": [
  {
   "cell_type": "markdown",
   "id": "c453a870",
   "metadata": {},
   "source": [
    "# <font color='blue'>Data Science Academy</font>\n",
    "# <font color='blue'>Big Data Real-Time Analytics com Python e Spark</font>"
   ]
  },
  {
   "cell_type": "markdown",
   "id": "154cd3f3",
   "metadata": {},
   "source": [
    "<br><br>\n",
    "\n",
    "# <center>Mini-Projeto 1 </center>\n",
    "## Modelagem Preditiva para Identificação de Risco de Doença Hepática\n",
    "\n",
    "<br>\n",
    "\n",
    "### Etapas:\n",
    "\n",
    "- Construção, Treinamento, Avaliação e Seleção de Modelos para <u>Classificação</u>"
   ]
  },
  {
   "cell_type": "markdown",
   "id": "db3a7175",
   "metadata": {},
   "source": [
    "### Introdução:\n",
    "- Vamos trabalhar agora em nosso primeiro Mini-Projeto de Machine Learning, cujo objetivo é fornecer um passo a passo completo do processo de construção, treinamento, avaliação e seleção de modelos para classificação. Este projeto será abordado de maneira integral, desde a definição do problema de negócio até as previsões com o modelo treinado."
   ]
  },
  {
   "cell_type": "markdown",
   "id": "9a3d300f",
   "metadata": {},
   "source": [
    "### Contexto:\n",
    "\n",
    "- O número de pacientes com doença hepática tem aumentado continuamente devido a fatores como consumo excessivo de álcool, inalação de gases nocivos, ingestão de alimentos contaminados, e uso de drogas e anabolizantes. Em resposta a essa crescente preocupação de saúde pública, este mini-projeto visa construir um modelo de Machine Learning capaz de prever se um paciente irá ou não desenvolver uma doença hepática com base em várias características clínicas e demográficas. Este modelo pode ser extremamente útil para médicos, hospitais ou governos no planejamento de orçamentos de saúde e na criação de políticas de prevenção eficazes.\n",
    "\n",
    "### Objetivo:\n",
    "\n",
    "- Nosso objetivo é prever uma classe (sim ou não), usaremos aprendizado supervisionado para **classificação**,   criando   diferentes   versões   do   modelo   com   diferentes algoritmos e passaremos por todo o processo de Machine Learning de ponta a ponta. Usaremos como fonte de dados o dataset disponível no link a seguir.\n",
    "\n",
    "### Dados:\n",
    "\n",
    "https://archive.ics.uci.edu/ml/datasets/ILPD+(Indian+Liver+Patient+Dataset)\n",
    "\n",
    "- Os dados para este projeto são provenientes do \"Indian Liver Patient Dataset\", disponível no link acima. Este conjunto de dados contém registros de pacientes hepáticos e não hepáticos coletados na Índia. A coluna \"Dataset\" atua como um rótulo de classe, dividindo os indivíduos em pacientes com doença hepática (1) ou sem a doença (2)."
   ]
  },
  {
   "cell_type": "markdown",
   "id": "0dd4b560",
   "metadata": {},
   "source": [
    "<br><br><br>\n",
    "## Importando Pacotes"
   ]
  },
  {
   "cell_type": "code",
   "execution_count": 4,
   "id": "483e6171",
   "metadata": {},
   "outputs": [],
   "source": [
    "# Imports\n",
    "import joblib\n",
    "import pickle\n",
    "import numpy as np\n",
    "import pandas as pd\n",
    "import seaborn as sns\n",
    "from matplotlib import pyplot as plt\n",
    "import sklearn\n",
    "from sklearn.model_selection import train_test_split\n",
    "from sklearn.model_selection import GridSearchCV\n",
    "from sklearn.model_selection import cross_val_score\n",
    "from sklearn.model_selection import RandomizedSearchCV\n",
    "from sklearn.linear_model import LogisticRegression\n",
    "from sklearn.ensemble import RandomForestClassifier\n",
    "from sklearn.neighbors import KNeighborsClassifier\n",
    "from sklearn.tree import DecisionTreeClassifier\n",
    "from sklearn.svm import SVC\n",
    "from sklearn.metrics import roc_curve, auc, roc_auc_score, confusion_matrix\n",
    "from sklearn.metrics import accuracy_score\n",
    "%matplotlib inline \n",
    "import warnings\n",
    "warnings.filterwarnings(\"ignore\")"
   ]
  },
  {
   "cell_type": "markdown",
   "id": "7ae47afd",
   "metadata": {},
   "source": [
    "<br><br>\n",
    "## Carregando o Conjunto de Dados"
   ]
  },
  {
   "cell_type": "code",
   "execution_count": null,
   "id": "d81f8db8",
   "metadata": {},
   "outputs": [],
   "source": []
  }
 ],
 "metadata": {
  "kernelspec": {
   "display_name": "Python 3 (ipykernel)",
   "language": "python",
   "name": "python3"
  },
  "language_info": {
   "codemirror_mode": {
    "name": "ipython",
    "version": 3
   },
   "file_extension": ".py",
   "mimetype": "text/x-python",
   "name": "python",
   "nbconvert_exporter": "python",
   "pygments_lexer": "ipython3",
   "version": "3.9.7"
  }
 },
 "nbformat": 4,
 "nbformat_minor": 5
}
