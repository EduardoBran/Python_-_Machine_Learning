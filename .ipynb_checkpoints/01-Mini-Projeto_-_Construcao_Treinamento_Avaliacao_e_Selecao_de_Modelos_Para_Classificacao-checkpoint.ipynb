{
 "cells": [
  {
   "cell_type": "markdown",
   "id": "cacaef64",
   "metadata": {},
   "source": [
    "# <font color='blue'>Data Science Academy</font>\n",
    "# <font color='blue'>Big Data Real-Time Analytics com Python e Spark</font>"
   ]
  },
  {
   "cell_type": "markdown",
   "id": "cb4ef561",
   "metadata": {},
   "source": [
    "# Mini-Projeto 1\n",
    "\n",
    "### Processo de Construção, Treinamento, Avaliação e Seleção de Modelos para <u>Classificação</u>"
   ]
  },
  {
   "cell_type": "markdown",
   "id": "e8d3e1ca",
   "metadata": {},
   "source": [
    "- Vamos  trabalhar  agora  em  nosso  primeiro  Mini-Projeto de Machine Learning,  cujo objetivo é trazer para você um passo a passo completo do processo de construção, treinamento, avaliação e seleção de modelos para classificação. Todo o processo será demonstrado de uma ponta  a  outra,  desde  a  definição  do  problemad e  negócio,  até  as  previsões  com  o  modelo treinado."
   ]
  },
  {
   "cell_type": "markdown",
   "id": "4838c171",
   "metadata": {},
   "source": [
    "<br><br>\n",
    "### Contexto\n",
    "\n",
    "- Tem aumentado de forma contínua o número de pacientes com doença hepática devido ao consumo excessivo de álcool, inalação de gases nocivos, ingestão de alimentos contaminados e uso de drogas e anabolizantes.\n",
    "- Neste mini-projeto vamos construir um modelo de Machine Learning capaz de prever se um paciente vai ou não desenvolver uma doença hepática com base em diversas características do  paciente.  Esse  modelo  pode  ajudar  médicos,  hospitais  ou  governos  a  planejar  melhor  o orçamento de gastos de saúde ou mesmo criar políticas de prevenção.\n",
    "\n",
    "#### Objetivo\n",
    "\n",
    "- Nosso objetivo é prever uma classe (sim ou não), usaremos aprendizado supervisionado para **classificação**,   criando   diferentes   versões   do   modelo   com   diferentes algoritmos e passaremos por todo o processo de Machine Learning de ponta a ponta. Usaremos como fonte de dados o dataset disponível no link a seguir.\n",
    "\n",
    "#### Dados \n",
    "\n",
    "https://archive.ics.uci.edu/ml/datasets/ILPD+(Indian+Liver+Patient+Dataset)\n",
    "\n",
    "- Este  conjunto  de  dados  contém  registros  de  pacientes  hepáticos  e  registros  de  pacientes  não hepáticos  coletados naÍndia.  A  coluna  \"Dataset\"  é  um  rótulo  de  classe  usado  para  dividir  os grupos em paciente hepático (que tem a doença hepática) ou não (sem doença)."
   ]
  },
  {
   "cell_type": "markdown",
   "id": "0e9a34b2",
   "metadata": {},
   "source": [
    "<br><br><br>\n",
    "### Importando Pacotes"
   ]
  },
  {
   "cell_type": "code",
   "execution_count": 3,
   "id": "65242c70",
   "metadata": {},
   "outputs": [],
   "source": [
    "# Imports\n",
    "import joblib\n",
    "import pickle\n",
    "import numpy as np\n",
    "import pandas as pd\n",
    "import seaborn as sns\n",
    "from matplotlib import pyplot as plt\n",
    "import sklearn\n",
    "from sklearn.model_selection import train_test_split\n",
    "from sklearn.model_selection import GridSearchCV\n",
    "from sklearn.model_selection import cross_val_score\n",
    "from sklearn.model_selection import RandomizedSearchCV\n",
    "from sklearn.linear_model import LogisticRegression\n",
    "from sklearn.ensemble import RandomForestClassifier\n",
    "from sklearn.neighbors import KNeighborsClassifier\n",
    "from sklearn.tree import DecisionTreeClassifier\n",
    "from sklearn.svm import SVC\n",
    "from sklearn.metrics import roc_curve, auc, roc_auc_score, confusion_matrix\n",
    "from sklearn.metrics import accuracy_score\n",
    "%matplotlib inline \n",
    "import warnings\n",
    "warnings.filterwarnings(\"ignore\")"
   ]
  },
  {
   "cell_type": "markdown",
   "id": "c31d5f3a",
   "metadata": {},
   "source": [
    "<br><br>\n",
    "## Carregando o Conjunto de dados"
   ]
  },
  {
   "cell_type": "code",
   "execution_count": null,
   "id": "7633083e",
   "metadata": {},
   "outputs": [],
   "source": []
  }
 ],
 "metadata": {
  "kernelspec": {
   "display_name": "Python 3 (ipykernel)",
   "language": "python",
   "name": "python3"
  },
  "language_info": {
   "codemirror_mode": {
    "name": "ipython",
    "version": 3
   },
   "file_extension": ".py",
   "mimetype": "text/x-python",
   "name": "python",
   "nbconvert_exporter": "python",
   "pygments_lexer": "ipython3",
   "version": "3.9.7"
  }
 },
 "nbformat": 4,
 "nbformat_minor": 5
}
